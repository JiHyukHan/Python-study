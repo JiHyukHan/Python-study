{
  "nbformat": 4,
  "nbformat_minor": 0,
  "metadata": {
    "colab": {
      "name": "Pneumonia_1.ipynb",
      "version": "0.3.2",
      "provenance": [],
      "collapsed_sections": []
    },
    "kernelspec": {
      "name": "python3",
      "display_name": "Python 3"
    },
    "accelerator": "GPU"
  },
  "cells": [
    {
      "metadata": {
        "id": "kKSxZrwrYsVn",
        "colab_type": "code",
        "colab": {
          "base_uri": "https://localhost:8080/",
          "height": 118
        },
        "outputId": "c73f1904-aa2a-4dab-8f52-5bff600597c8"
      },
      "cell_type": "code",
      "source": [
        "from google.colab import auth\n",
        "auth.authenticate_user()\n",
        "\n",
        "from google.colab import drive\n",
        "drive.mount('/content/gdrive')"
      ],
      "execution_count": 1,
      "outputs": [
        {
          "output_type": "stream",
          "text": [
            "Go to this URL in a browser: https://accounts.google.com/o/oauth2/auth?client_id=947318989803-6bn6qk8qdgf4n4g3pfee6491hc0brc4i.apps.googleusercontent.com&redirect_uri=urn%3Aietf%3Awg%3Aoauth%3A2.0%3Aoob&scope=email%20https%3A%2F%2Fwww.googleapis.com%2Fauth%2Fdocs.test%20https%3A%2F%2Fwww.googleapis.com%2Fauth%2Fdrive%20https%3A%2F%2Fwww.googleapis.com%2Fauth%2Fdrive.photos.readonly%20https%3A%2F%2Fwww.googleapis.com%2Fauth%2Fpeopleapi.readonly&response_type=code\n",
            "\n",
            "Enter your authorization code:\n",
            "··········\n",
            "Mounted at /content/gdrive\n"
          ],
          "name": "stdout"
        }
      ]
    },
    {
      "metadata": {
        "id": "yHKiOt6MY7ml",
        "colab_type": "code",
        "colab": {
          "base_uri": "https://localhost:8080/",
          "height": 33
        },
        "outputId": "35ff95c2-b16f-4551-b2b8-150f76c0431d"
      },
      "cell_type": "code",
      "source": [
        "ls gdrive/My\\ Drive"
      ],
      "execution_count": 2,
      "outputs": [
        {
          "output_type": "stream",
          "text": [
            "\u001b[0m\u001b[01;34m'Colab Notebooks'\u001b[0m/   \u001b[01;34mdataset\u001b[0m/   foo.txt   \u001b[01;34mKeras\u001b[0m/\n"
          ],
          "name": "stdout"
        }
      ]
    },
    {
      "metadata": {
        "id": "QCZC1IVQY9OE",
        "colab_type": "code",
        "colab": {}
      },
      "cell_type": "code",
      "source": [
        "import os\n",
        "import numpy as np\n",
        "import pandas as pd\n",
        "\n",
        "import PIL \n",
        "from PIL import Image\n",
        "import matplotlib.pyplot as plt\n",
        "\n",
        "from keras import optimizers\n",
        "from keras.models import Sequential\n",
        "from keras.layers import Dense, Activation, Conv2D, MaxPooling2D, Flatten, Dropout\n",
        "from keras.preprocessing.image import ImageDataGenerator"
      ],
      "execution_count": 0,
      "outputs": []
    },
    {
      "metadata": {
        "id": "pXXH-AZcY_Q0",
        "colab_type": "code",
        "colab": {
          "base_uri": "https://localhost:8080/",
          "height": 50
        },
        "outputId": "562661d4-c701-40dd-8cf7-157d9861b9ef"
      },
      "cell_type": "code",
      "source": [
        "\n",
        "np.random.seed(6524)\n",
        "\n",
        "# train normal 1341 pneumonia 3875 total 5216\n",
        "# test normal 234 pneumonia 390 total 624\n",
        "# val normal 8 pneumonia 8 total 16 \n",
        "\n",
        "img_size = 256 \n",
        "channel = 1 \n",
        "\n",
        "# 데이터셋 생성하기 \n",
        "train_datagen = ImageDataGenerator(rescale=1./255)\n",
        "\n",
        "train_generator = train_datagen.flow_from_directory(\n",
        "        'gdrive/My Drive/dataset/chest_xray/train',\n",
        "        target_size=(img_size, img_size),    \n",
        "        color_mode = 'grayscale',\n",
        "        batch_size=64,\n",
        "        class_mode='categorical')  \n",
        "\n",
        "val_datagen = ImageDataGenerator(rescale=1./255)\n",
        "\n",
        "val_generator = val_datagen.flow_from_directory(\n",
        "        'gdrive/My Drive/dataset/chest_xray/val',\n",
        "        target_size=(img_size, img_size),    \n",
        "        color_mode = 'grayscale',\n",
        "        batch_size=64,\n",
        "        class_mode='categorical')\n",
        "\n",
        "\n"
      ],
      "execution_count": 46,
      "outputs": [
        {
          "output_type": "stream",
          "text": [
            "Found 5216 images belonging to 2 classes.\n",
            "Found 16 images belonging to 2 classes.\n"
          ],
          "name": "stdout"
        }
      ]
    },
    {
      "metadata": {
        "id": "kpxUii2daQzj",
        "colab_type": "code",
        "colab": {
          "base_uri": "https://localhost:8080/",
          "height": 33
        },
        "outputId": "dc8dc611-8829-4986-ee71-c68a74ace6ec"
      },
      "cell_type": "code",
      "source": [
        "\n",
        "test_imgs_list=[]\n",
        "test_labels_list=[]\n",
        "test_imgs=[]\n",
        "test_labels=[]\n",
        "\n",
        "def img_prep(img) : \n",
        "  img = img.resize((img_size,img_size)) \n",
        "  img = img.convert('L')\n",
        "  return img \n",
        "  \n",
        "\n",
        "for folder in ['NORMAL','PNEUMONIA']:\n",
        "  for file in os.listdir('gdrive/My Drive/dataset/chest_xray/test/{}'.format(folder)):\n",
        "    try:\n",
        "      file_path = 'gdrive/My Drive/dataset/chest_xray/test/{}/{}'.format(folder,file)\n",
        "      img = Image.open(file_path)\n",
        "      img_p = img_prep(img)\n",
        "    \n",
        "      test_imgs_list.append(np.array(img_p))\n",
        "       \n",
        "      if folder =='NORMAL':\n",
        "        label_onehot = np.array([1,0])\n",
        "\n",
        "      elif folder =='PNEUMONIA':\n",
        "        label_onehot = np.array([0,1])\n",
        "\n",
        "      test_labels_list.append(np.array(label_onehot))\n",
        "            \n",
        "      test_imgs = np.array(test_imgs_list).reshape(len(test_imgs_list),img_size,img_size,channel)\n",
        "      test_labels = np.array(test_labels_list).reshape(len(test_labels_list),2)\n",
        "    except:\n",
        "      pass\n",
        "\n",
        "print('done')"
      ],
      "execution_count": 47,
      "outputs": [
        {
          "output_type": "stream",
          "text": [
            "done\n"
          ],
          "name": "stdout"
        }
      ]
    },
    {
      "metadata": {
        "id": "LW6dfymkb2n0",
        "colab_type": "code",
        "colab": {
          "base_uri": "https://localhost:8080/",
          "height": 748
        },
        "outputId": "7f9f2e17-9257-46ec-a521-fa571145bf2a"
      },
      "cell_type": "code",
      "source": [
        "# 모델 구성 \n",
        "model = Sequential()\n",
        "\n",
        "model.add(Conv2D(16, (3, 3), padding='same', activation='relu', input_shape=(256, 256, 1)))\n",
        "model.add(MaxPooling2D(pool_size=(4, 4)))\n",
        "model.add(Dropout(0.2))\n",
        "model.add(Conv2D(32, (3, 3), padding='same', activation='relu'))\n",
        "model.add(MaxPooling2D(pool_size=(4, 4)))\n",
        "model.add(Dropout(0.2))\n",
        "model.add(Conv2D(64, (3, 3), padding='same', activation='relu'))\n",
        "model.add(MaxPooling2D(pool_size=(2, 2)))\n",
        "model.add(Dropout(0.2))\n",
        "model.add(Conv2D(128, (3, 3), padding='same', activation='relu'))\n",
        "model.add(MaxPooling2D(pool_size=(2, 2)))\n",
        "model.add(Dropout(0.2))\n",
        "model.add(Conv2D(256, (3, 3), padding='same', activation='relu'))\n",
        "model.add(MaxPooling2D(pool_size=(2, 2)))\n",
        "model.add(Dropout(0.2))\n",
        "model.add(Flatten())\n",
        "model.add(Dense(1024, activation='relu'))\n",
        "model.add(Dropout(0.2))\n",
        "model.add(Dense(2, activation='softmax'))\n",
        "\n",
        "model.summary()\n",
        "\n",
        "adam = optimizers.Adam(lr=0.001)\n",
        "model.compile(loss='categorical_crossentropy', optimizer='adam', metrics=['accuracy'])\n",
        "\n",
        "from keras.callbacks import EarlyStopping\n",
        "early_stopping = EarlyStopping(patience = 5) "
      ],
      "execution_count": 48,
      "outputs": [
        {
          "output_type": "stream",
          "text": [
            "_________________________________________________________________\n",
            "Layer (type)                 Output Shape              Param #   \n",
            "=================================================================\n",
            "conv2d_16 (Conv2D)           (None, 256, 256, 16)      160       \n",
            "_________________________________________________________________\n",
            "max_pooling2d_16 (MaxPooling (None, 64, 64, 16)        0         \n",
            "_________________________________________________________________\n",
            "dropout_19 (Dropout)         (None, 64, 64, 16)        0         \n",
            "_________________________________________________________________\n",
            "conv2d_17 (Conv2D)           (None, 64, 64, 32)        4640      \n",
            "_________________________________________________________________\n",
            "max_pooling2d_17 (MaxPooling (None, 16, 16, 32)        0         \n",
            "_________________________________________________________________\n",
            "dropout_20 (Dropout)         (None, 16, 16, 32)        0         \n",
            "_________________________________________________________________\n",
            "conv2d_18 (Conv2D)           (None, 16, 16, 64)        18496     \n",
            "_________________________________________________________________\n",
            "max_pooling2d_18 (MaxPooling (None, 8, 8, 64)          0         \n",
            "_________________________________________________________________\n",
            "dropout_21 (Dropout)         (None, 8, 8, 64)          0         \n",
            "_________________________________________________________________\n",
            "conv2d_19 (Conv2D)           (None, 8, 8, 128)         73856     \n",
            "_________________________________________________________________\n",
            "max_pooling2d_19 (MaxPooling (None, 4, 4, 128)         0         \n",
            "_________________________________________________________________\n",
            "dropout_22 (Dropout)         (None, 4, 4, 128)         0         \n",
            "_________________________________________________________________\n",
            "conv2d_20 (Conv2D)           (None, 4, 4, 256)         295168    \n",
            "_________________________________________________________________\n",
            "max_pooling2d_20 (MaxPooling (None, 2, 2, 256)         0         \n",
            "_________________________________________________________________\n",
            "dropout_23 (Dropout)         (None, 2, 2, 256)         0         \n",
            "_________________________________________________________________\n",
            "flatten_4 (Flatten)          (None, 1024)              0         \n",
            "_________________________________________________________________\n",
            "dense_7 (Dense)              (None, 1024)              1049600   \n",
            "_________________________________________________________________\n",
            "dropout_24 (Dropout)         (None, 1024)              0         \n",
            "_________________________________________________________________\n",
            "dense_8 (Dense)              (None, 2)                 2050      \n",
            "=================================================================\n",
            "Total params: 1,443,970\n",
            "Trainable params: 1,443,970\n",
            "Non-trainable params: 0\n",
            "_________________________________________________________________\n"
          ],
          "name": "stdout"
        }
      ]
    },
    {
      "metadata": {
        "id": "vVbrbDH1c7n4",
        "colab_type": "code",
        "colab": {
          "base_uri": "https://localhost:8080/",
          "height": 832
        },
        "outputId": "0a7e338c-54de-4a9c-9e14-6aea1e4e4ec8"
      },
      "cell_type": "code",
      "source": [
        "# 모델 학습\n",
        "hist = model.fit_generator(\n",
        "        train_generator,\n",
        "        steps_per_epoch=90,  # train sample 5216, batch size 64\n",
        "        epochs=30,\n",
        "        validation_data=val_generator,\n",
        "        validation_steps=1, # test sample 16, batch size 64\n",
        "        callbacks=[early_stopping]\n",
        "        )  \n",
        "\n",
        "\n",
        "# 모델 학습 과정 표시하기 \n",
        "%matplotlib inline\n",
        "import matplotlib.pyplot as plt\n",
        "\n",
        "fig, loss_ax = plt.subplots()\n",
        "\n",
        "acc_ax = loss_ax.twinx()\n",
        "\n",
        "loss_ax.plot(hist.history['loss'], 'y', label='train loss')\n",
        "loss_ax.plot(hist.history['val_loss'], 'r', label='val loss')\n",
        "\n",
        "acc_ax.plot(hist.history['acc'], 'b', label='train acc')\n",
        "acc_ax.plot(hist.history['val_acc'], 'g', label='val acc')\n",
        "\n",
        "loss_ax.set_xlabel('epoch')\n",
        "loss_ax.set_ylabel('loss')\n",
        "acc_ax.set_ylabel('accuray')\n",
        "\n",
        "loss_ax.legend(loc='upper left')\n",
        "acc_ax.legend(loc='lower left')\n",
        "\n",
        "plt.show()"
      ],
      "execution_count": 49,
      "outputs": [
        {
          "output_type": "stream",
          "text": [
            "Epoch 1/30\n",
            "90/90 [==============================] - 75s 838ms/step - loss: 0.5495 - acc: 0.7465 - val_loss: 1.0021 - val_acc: 0.6250\n",
            "Epoch 2/30\n",
            "90/90 [==============================] - 73s 808ms/step - loss: 0.2414 - acc: 0.9010 - val_loss: 0.3888 - val_acc: 0.8125\n",
            "Epoch 3/30\n",
            "90/90 [==============================] - 72s 800ms/step - loss: 0.1519 - acc: 0.9368 - val_loss: 0.4891 - val_acc: 0.8125\n",
            "Epoch 4/30\n",
            "90/90 [==============================] - 73s 815ms/step - loss: 0.1067 - acc: 0.9592 - val_loss: 0.3200 - val_acc: 0.8125\n",
            "Epoch 5/30\n",
            "90/90 [==============================] - 73s 810ms/step - loss: 0.0956 - acc: 0.9658 - val_loss: 0.4128 - val_acc: 0.8125\n",
            "Epoch 6/30\n",
            "90/90 [==============================] - 73s 807ms/step - loss: 0.0797 - acc: 0.9698 - val_loss: 0.1521 - val_acc: 1.0000\n",
            "Epoch 7/30\n",
            "90/90 [==============================] - 73s 810ms/step - loss: 0.0860 - acc: 0.9677 - val_loss: 0.1487 - val_acc: 0.9375\n",
            "Epoch 8/30\n",
            "90/90 [==============================] - 72s 802ms/step - loss: 0.0666 - acc: 0.9745 - val_loss: 0.1046 - val_acc: 1.0000\n",
            "Epoch 9/30\n",
            "90/90 [==============================] - 72s 803ms/step - loss: 0.0671 - acc: 0.9741 - val_loss: 0.2033 - val_acc: 0.8750\n",
            "Epoch 10/30\n",
            "90/90 [==============================] - 73s 808ms/step - loss: 0.0559 - acc: 0.9806 - val_loss: 0.0795 - val_acc: 1.0000\n",
            "Epoch 11/30\n",
            "90/90 [==============================] - 72s 806ms/step - loss: 0.0576 - acc: 0.9783 - val_loss: 0.1586 - val_acc: 0.8750\n",
            "Epoch 12/30\n",
            "90/90 [==============================] - 72s 805ms/step - loss: 0.0479 - acc: 0.9832 - val_loss: 0.0357 - val_acc: 1.0000\n",
            "Epoch 13/30\n",
            "90/90 [==============================] - 73s 810ms/step - loss: 0.0614 - acc: 0.9771 - val_loss: 0.0709 - val_acc: 1.0000\n",
            "Epoch 14/30\n",
            "90/90 [==============================] - 72s 799ms/step - loss: 0.0435 - acc: 0.9837 - val_loss: 0.0611 - val_acc: 1.0000\n",
            "Epoch 15/30\n",
            "90/90 [==============================] - 73s 809ms/step - loss: 0.0450 - acc: 0.9832 - val_loss: 0.1156 - val_acc: 1.0000\n",
            "Epoch 16/30\n",
            "90/90 [==============================] - 74s 820ms/step - loss: 0.0397 - acc: 0.9861 - val_loss: 0.2617 - val_acc: 0.8750\n",
            "Epoch 17/30\n",
            "90/90 [==============================] - 72s 803ms/step - loss: 0.0416 - acc: 0.9858 - val_loss: 0.0691 - val_acc: 1.0000\n"
          ],
          "name": "stdout"
        },
        {
          "output_type": "display_data",
          "data": {
            "image/png": "[encoded data removed]",
            "text/plain": [
              "<Figure size 432x288 with 2 Axes>"
            ]
          },
          "metadata": {
            "tags": []
          }
        }
      ]
    },
    {
      "metadata": {
        "id": "unljFdQZg_HF",
        "colab_type": "code",
        "colab": {
          "base_uri": "https://localhost:8080/",
          "height": 66
        },
        "outputId": "0bddd6c8-b3c6-4fb1-e195-e8c2d77258fe"
      },
      "cell_type": "code",
      "source": [
        "# 모델 평가 및 사용하기\n",
        "print(\"-- Evaluate --\")\n",
        "scores = model.evaluate(test_imgs, test_labels, batch_size=64)\n",
        "print(\"%s: %.2f%%\" %(model.metrics_names[1], scores[1]*100))\n"
      ],
      "execution_count": 50,
      "outputs": [
        {
          "output_type": "stream",
          "text": [
            "-- Evaluate --\n",
            "624/624 [==============================] - 0s 660us/step\n",
            "acc: 85.10%\n"
          ],
          "name": "stdout"
        }
      ]
    },
    {
      "metadata": {
        "id": "rLk87ogG9GkK",
        "colab_type": "code",
        "colab": {
          "base_uri": "https://localhost:8080/",
          "height": 147
        },
        "outputId": "bf8c60a4-8c82-4e7c-9297-77273e8fd212"
      },
      "cell_type": "code",
      "source": [
        "\n",
        "print(\"-- Predict --\")\n",
        "output = model.predict(test_imgs)\n",
        "np.set_printoptions(formatter={'float': lambda x: \"{0:0.3f}\".format(x)})\n",
        "print(output)"
      ],
      "execution_count": 51,
      "outputs": [
        {
          "output_type": "stream",
          "text": [
            "-- Predict --\n",
            "[[1.000 0.000]\n",
            " [1.000 0.000]\n",
            " [0.000 1.000]\n",
            " ...\n",
            " [0.000 1.000]\n",
            " [0.000 1.000]\n",
            " [0.000 1.000]]\n"
          ],
          "name": "stdout"
        }
      ]
    },
    {
      "metadata": {
        "id": "ppCzSzn4gvFp",
        "colab_type": "code",
        "colab": {}
      },
      "cell_type": "code",
      "source": [
        ""
      ],
      "execution_count": 0,
      "outputs": []
    }
  ]
}