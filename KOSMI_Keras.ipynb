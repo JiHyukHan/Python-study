{
  "nbformat": 4,
  "nbformat_minor": 0,
  "metadata": {
    "colab": {
      "name": "KOSMI_Keras.ipynb",
      "version": "0.3.2",
      "provenance": [],
      "collapsed_sections": []
    },
    "kernelspec": {
      "name": "python3",
      "display_name": "Python 3"
    }
  },
  "cells": [
    {
      "metadata": {
        "id": "cK23lk97bmxe",
        "colab_type": "text"
      },
      "cell_type": "markdown",
      "source": [
        "# KOSMI 예제를 Keras 로 바꿔보기 "
      ]
    },
    {
      "metadata": {
        "id": "ke1bAghPdS12",
        "colab_type": "text"
      },
      "cell_type": "markdown",
      "source": [
        "google drive mount "
      ]
    },
    {
      "metadata": {
        "id": "P8nf7ODYdHHq",
        "colab_type": "code",
        "outputId": "91dc4076-99c5-4189-b3c8-435ff02d4dd3",
        "colab": {
          "base_uri": "https://localhost:8080/",
          "height": 118
        }
      },
      "cell_type": "code",
      "source": [
        "from google.colab import auth\n",
        "auth.authenticate_user()\n",
        "\n",
        "from google.colab import drive\n",
        "drive.mount('/content/gdrive')"
      ],
      "execution_count": 2,
      "outputs": [
        {
          "output_type": "stream",
          "text": [
            "Go to this URL in a browser: https://accounts.google.com/o/oauth2/auth?client_id=947318989803-6bn6qk8qdgf4n4g3pfee6491hc0brc4i.apps.googleusercontent.com&redirect_uri=urn%3Aietf%3Awg%3Aoauth%3A2.0%3Aoob&scope=email%20https%3A%2F%2Fwww.googleapis.com%2Fauth%2Fdocs.test%20https%3A%2F%2Fwww.googleapis.com%2Fauth%2Fdrive%20https%3A%2F%2Fwww.googleapis.com%2Fauth%2Fdrive.photos.readonly%20https%3A%2F%2Fwww.googleapis.com%2Fauth%2Fpeopleapi.readonly&response_type=code\n",
            "\n",
            "Enter your authorization code:\n",
            "··········\n",
            "Mounted at /content/gdrive\n"
          ],
          "name": "stdout"
        }
      ]
    },
    {
      "metadata": {
        "id": "04sulHRkdIlf",
        "colab_type": "code",
        "outputId": "86167c5e-f52a-48ce-c753-0df60623a113",
        "colab": {
          "base_uri": "https://localhost:8080/",
          "height": 33
        }
      },
      "cell_type": "code",
      "source": [
        "with open('/content/gdrive/My Drive/foo.txt', 'w') as f:\n",
        "  f.write('Hello Google Drive!')\n",
        "!cat /content/gdrive/My\\ Drive/foo.txt"
      ],
      "execution_count": 0,
      "outputs": [
        {
          "output_type": "stream",
          "text": [
            "Hello Google Drive!"
          ],
          "name": "stdout"
        }
      ]
    },
    {
      "metadata": {
        "id": "9w-WwkJwYAFp",
        "colab_type": "code",
        "outputId": "9359b819-87f4-465d-f6bc-83ff684ecb4c",
        "colab": {
          "base_uri": "https://localhost:8080/",
          "height": 33
        }
      },
      "cell_type": "code",
      "source": [
        "ls gdrive/My\\ Drive"
      ],
      "execution_count": 3,
      "outputs": [
        {
          "output_type": "stream",
          "text": [
            "\u001b[0m\u001b[01;34m'Colab Notebooks'\u001b[0m/   \u001b[01;34mdataset\u001b[0m/   foo.txt   \u001b[01;34mKeras\u001b[0m/\n"
          ],
          "name": "stdout"
        }
      ]
    },
    {
      "metadata": {
        "id": "5GFVgzJEau_i",
        "colab_type": "code",
        "outputId": "722fd310-b9f9-4063-f556-6501ac1479f0",
        "colab": {
          "base_uri": "https://localhost:8080/",
          "height": 33
        }
      },
      "cell_type": "code",
      "source": [
        "import PIL \n",
        "from PIL import Image\n",
        "import matplotlib.pyplot as plt\n",
        "\n",
        "import numpy as np\n",
        "from keras.models import Sequential\n",
        "from keras.layers import Dense, Activation, Conv2D, MaxPooling2D, Flatten, Dropout\n",
        "from keras.preprocessing.image import ImageDataGenerator\n"
      ],
      "execution_count": 4,
      "outputs": [
        {
          "output_type": "stream",
          "text": [
            "Using TensorFlow backend.\n"
          ],
          "name": "stderr"
        }
      ]
    },
    {
      "metadata": {
        "id": "qifEtL53eLHn",
        "colab_type": "code",
        "outputId": "7c946edf-b351-4159-d35e-b6ac5fd8dcc0",
        "colab": {
          "base_uri": "https://localhost:8080/",
          "height": 50
        }
      },
      "cell_type": "code",
      "source": [
        "# 랜덤시드 고정시키기\n",
        "np.random.seed(2)\n",
        "\n",
        "# 데이터셋 생성하기 \n",
        "train_datagen = ImageDataGenerator(rescale=1./255)\n",
        "\n",
        "train_generator = train_datagen.flow_from_directory(\n",
        "        'gdrive/My Drive/dataset/KOSMI_tutorial/retinopathy_dataset_resize_gray/train',\n",
        "        target_size=(128, 128),\n",
        "        batch_size=64,\n",
        "        class_mode='binary') # 카테고리로 하면 모델 학습시 에러, 이진 분류면 꼭 binary 로 해야하는듯 \n",
        "\n",
        "test_datagen = ImageDataGenerator(rescale=1./255)\n",
        "\n",
        "test_generator = test_datagen.flow_from_directory(\n",
        "        'gdrive/My Drive/dataset/KOSMI_tutorial/retinopathy_dataset_resize_gray/test',\n",
        "        target_size=(128, 128),    \n",
        "        batch_size=64,\n",
        "        class_mode='binary')"
      ],
      "execution_count": 6,
      "outputs": [
        {
          "output_type": "stream",
          "text": [
            "Found 1230 images belonging to 2 classes.\n",
            "Found 292 images belonging to 2 classes.\n"
          ],
          "name": "stdout"
        }
      ]
    },
    {
      "metadata": {
        "colab_type": "code",
        "id": "cquvwxLp2dz0",
        "colab": {}
      },
      "cell_type": "code",
      "source": [
        "# 모델 구성 \n",
        "model = Sequential()\n",
        "model.add(Conv2D(16, (3, 3), padding='same', activation='relu', input_shape=(128, 128, 3)))\n",
        "model.add(MaxPooling2D(pool_size=(2, 2)))\n",
        "#model.add(Dropout(0.1))\n",
        "model.add(Conv2D(64, (3, 3), padding='same', activation='relu'))\n",
        "model.add(MaxPooling2D(pool_size=(2, 2)))\n",
        "#model.add(Dropout(0.1))\n",
        "model.add(Conv2D(128, (3, 3), padding='same', activation='relu'))\n",
        "model.add(MaxPooling2D(pool_size=(2, 2)))\n",
        "model.add(Flatten())\n",
        "model.add(Dense(1024, activation='relu'))\n",
        "#model.add(Dropout(0.1))\n",
        "model.add(Dense(1, activation='sigmoid')) # 0, 1 의 이진분류 "
      ],
      "execution_count": 0,
      "outputs": []
    },
    {
      "metadata": {
        "id": "dJPilvcXT5o7",
        "colab_type": "code",
        "outputId": "c60ac1d8-af91-4cb0-e0fc-ce6c56441d17",
        "colab": {
          "base_uri": "https://localhost:8080/",
          "height": 1076
        }
      },
      "cell_type": "code",
      "source": [
        "# 모델 시각화 \n",
        "from IPython.display import SVG\n",
        "from keras.utils.vis_utils import model_to_dot\n",
        "\n",
        "%matplotlib inline\n",
        "\n",
        "SVG(model_to_dot(model, show_shapes=True).create(prog='dot', format='svg'))"
      ],
      "execution_count": 13,
      "outputs": [
        {
          "output_type": "execute_result",
          "data": {
            "text/plain": [
              "<IPython.core.display.SVG object>"
            ],
            "image/svg+xml": "<svg height=\"792pt\" viewBox=\"0.00 0.00 427.00 792.00\" width=\"427pt\" xmlns=\"http://www.w3.org/2000/svg\" xmlns:xlink=\"http://www.w3.org/1999/xlink\">\n<g class=\"graph\" id=\"graph0\" transform=\"scale(1 1) rotate(0) translate(4 788)\">\n<title>G</title>\n<polygon fill=\"#ffffff\" points=\"-4,4 -4,-788 423,-788 423,4 -4,4\" stroke=\"transparent\"/>\n<!-- 139751762661160 -->\n<g class=\"node\" id=\"node1\">\n<title>139751762661160</title>\n<polygon fill=\"none\" points=\"44,-664.5 44,-710.5 375,-710.5 375,-664.5 44,-664.5\" stroke=\"#000000\"/>\n<text fill=\"#000000\" font-family=\"Times,serif\" font-size=\"14.00\" text-anchor=\"middle\" x=\"110.5\" y=\"-683.8\">conv2d_4: Conv2D</text>\n<polyline fill=\"none\" points=\"177,-664.5 177,-710.5 \" stroke=\"#000000\"/>\n<text fill=\"#000000\" font-family=\"Times,serif\" font-size=\"14.00\" text-anchor=\"middle\" x=\"206\" y=\"-695.3\">input:</text>\n<polyline fill=\"none\" points=\"177,-687.5 235,-687.5 \" stroke=\"#000000\"/>\n<text fill=\"#000000\" font-family=\"Times,serif\" font-size=\"14.00\" text-anchor=\"middle\" x=\"206\" y=\"-672.3\">output:</text>\n<polyline fill=\"none\" points=\"235,-664.5 235,-710.5 \" stroke=\"#000000\"/>\n<text fill=\"#000000\" font-family=\"Times,serif\" font-size=\"14.00\" text-anchor=\"middle\" x=\"305\" y=\"-695.3\">(None, 128, 128, 3)</text>\n<polyline fill=\"none\" points=\"235,-687.5 375,-687.5 \" stroke=\"#000000\"/>\n<text fill=\"#000000\" font-family=\"Times,serif\" font-size=\"14.00\" text-anchor=\"middle\" x=\"305\" y=\"-672.3\">(None, 128, 128, 16)</text>\n</g>\n<!-- 139751762512584 -->\n<g class=\"node\" id=\"node2\">\n<title>139751762512584</title>\n<polygon fill=\"none\" points=\"0,-581.5 0,-627.5 419,-627.5 419,-581.5 0,-581.5\" stroke=\"#000000\"/>\n<text fill=\"#000000\" font-family=\"Times,serif\" font-size=\"14.00\" text-anchor=\"middle\" x=\"110.5\" y=\"-600.8\">max_pooling2d_4: MaxPooling2D</text>\n<polyline fill=\"none\" points=\"221,-581.5 221,-627.5 \" stroke=\"#000000\"/>\n<text fill=\"#000000\" font-family=\"Times,serif\" font-size=\"14.00\" text-anchor=\"middle\" x=\"250\" y=\"-612.3\">input:</text>\n<polyline fill=\"none\" points=\"221,-604.5 279,-604.5 \" stroke=\"#000000\"/>\n<text fill=\"#000000\" font-family=\"Times,serif\" font-size=\"14.00\" text-anchor=\"middle\" x=\"250\" y=\"-589.3\">output:</text>\n<polyline fill=\"none\" points=\"279,-581.5 279,-627.5 \" stroke=\"#000000\"/>\n<text fill=\"#000000\" font-family=\"Times,serif\" font-size=\"14.00\" text-anchor=\"middle\" x=\"349\" y=\"-612.3\">(None, 128, 128, 16)</text>\n<polyline fill=\"none\" points=\"279,-604.5 419,-604.5 \" stroke=\"#000000\"/>\n<text fill=\"#000000\" font-family=\"Times,serif\" font-size=\"14.00\" text-anchor=\"middle\" x=\"349\" y=\"-589.3\">(None, 64, 64, 16)</text>\n</g>\n<!-- 139751762661160&#45;&gt;139751762512584 -->\n<g class=\"edge\" id=\"edge2\">\n<title>139751762661160-&gt;139751762512584</title>\n<path d=\"M209.5,-664.3799C209.5,-656.1745 209.5,-646.7679 209.5,-637.8786\" fill=\"none\" stroke=\"#000000\"/>\n<polygon fill=\"#000000\" points=\"213.0001,-637.784 209.5,-627.784 206.0001,-637.784 213.0001,-637.784\" stroke=\"#000000\"/>\n</g>\n<!-- 139751762098272 -->\n<g class=\"node\" id=\"node3\">\n<title>139751762098272</title>\n<polygon fill=\"none\" points=\"51.5,-498.5 51.5,-544.5 367.5,-544.5 367.5,-498.5 51.5,-498.5\" stroke=\"#000000\"/>\n<text fill=\"#000000\" font-family=\"Times,serif\" font-size=\"14.00\" text-anchor=\"middle\" x=\"118\" y=\"-517.8\">conv2d_5: Conv2D</text>\n<polyline fill=\"none\" points=\"184.5,-498.5 184.5,-544.5 \" stroke=\"#000000\"/>\n<text fill=\"#000000\" font-family=\"Times,serif\" font-size=\"14.00\" text-anchor=\"middle\" x=\"213.5\" y=\"-529.3\">input:</text>\n<polyline fill=\"none\" points=\"184.5,-521.5 242.5,-521.5 \" stroke=\"#000000\"/>\n<text fill=\"#000000\" font-family=\"Times,serif\" font-size=\"14.00\" text-anchor=\"middle\" x=\"213.5\" y=\"-506.3\">output:</text>\n<polyline fill=\"none\" points=\"242.5,-498.5 242.5,-544.5 \" stroke=\"#000000\"/>\n<text fill=\"#000000\" font-family=\"Times,serif\" font-size=\"14.00\" text-anchor=\"middle\" x=\"305\" y=\"-529.3\">(None, 64, 64, 16)</text>\n<polyline fill=\"none\" points=\"242.5,-521.5 367.5,-521.5 \" stroke=\"#000000\"/>\n<text fill=\"#000000\" font-family=\"Times,serif\" font-size=\"14.00\" text-anchor=\"middle\" x=\"305\" y=\"-506.3\">(None, 64, 64, 64)</text>\n</g>\n<!-- 139751762512584&#45;&gt;139751762098272 -->\n<g class=\"edge\" id=\"edge3\">\n<title>139751762512584-&gt;139751762098272</title>\n<path d=\"M209.5,-581.3799C209.5,-573.1745 209.5,-563.7679 209.5,-554.8786\" fill=\"none\" stroke=\"#000000\"/>\n<polygon fill=\"#000000\" points=\"213.0001,-554.784 209.5,-544.784 206.0001,-554.784 213.0001,-554.784\" stroke=\"#000000\"/>\n</g>\n<!-- 139751762916408 -->\n<g class=\"node\" id=\"node4\">\n<title>139751762916408</title>\n<polygon fill=\"none\" points=\"7.5,-415.5 7.5,-461.5 411.5,-461.5 411.5,-415.5 7.5,-415.5\" stroke=\"#000000\"/>\n<text fill=\"#000000\" font-family=\"Times,serif\" font-size=\"14.00\" text-anchor=\"middle\" x=\"118\" y=\"-434.8\">max_pooling2d_5: MaxPooling2D</text>\n<polyline fill=\"none\" points=\"228.5,-415.5 228.5,-461.5 \" stroke=\"#000000\"/>\n<text fill=\"#000000\" font-family=\"Times,serif\" font-size=\"14.00\" text-anchor=\"middle\" x=\"257.5\" y=\"-446.3\">input:</text>\n<polyline fill=\"none\" points=\"228.5,-438.5 286.5,-438.5 \" stroke=\"#000000\"/>\n<text fill=\"#000000\" font-family=\"Times,serif\" font-size=\"14.00\" text-anchor=\"middle\" x=\"257.5\" y=\"-423.3\">output:</text>\n<polyline fill=\"none\" points=\"286.5,-415.5 286.5,-461.5 \" stroke=\"#000000\"/>\n<text fill=\"#000000\" font-family=\"Times,serif\" font-size=\"14.00\" text-anchor=\"middle\" x=\"349\" y=\"-446.3\">(None, 64, 64, 64)</text>\n<polyline fill=\"none\" points=\"286.5,-438.5 411.5,-438.5 \" stroke=\"#000000\"/>\n<text fill=\"#000000\" font-family=\"Times,serif\" font-size=\"14.00\" text-anchor=\"middle\" x=\"349\" y=\"-423.3\">(None, 32, 32, 64)</text>\n</g>\n<!-- 139751762098272&#45;&gt;139751762916408 -->\n<g class=\"edge\" id=\"edge4\">\n<title>139751762098272-&gt;139751762916408</title>\n<path d=\"M209.5,-498.3799C209.5,-490.1745 209.5,-480.7679 209.5,-471.8786\" fill=\"none\" stroke=\"#000000\"/>\n<polygon fill=\"#000000\" points=\"213.0001,-471.784 209.5,-461.784 206.0001,-471.784 213.0001,-471.784\" stroke=\"#000000\"/>\n</g>\n<!-- 139751762121560 -->\n<g class=\"node\" id=\"node5\">\n<title>139751762121560</title>\n<polygon fill=\"none\" points=\"48,-332.5 48,-378.5 371,-378.5 371,-332.5 48,-332.5\" stroke=\"#000000\"/>\n<text fill=\"#000000\" font-family=\"Times,serif\" font-size=\"14.00\" text-anchor=\"middle\" x=\"114.5\" y=\"-351.8\">conv2d_6: Conv2D</text>\n<polyline fill=\"none\" points=\"181,-332.5 181,-378.5 \" stroke=\"#000000\"/>\n<text fill=\"#000000\" font-family=\"Times,serif\" font-size=\"14.00\" text-anchor=\"middle\" x=\"210\" y=\"-363.3\">input:</text>\n<polyline fill=\"none\" points=\"181,-355.5 239,-355.5 \" stroke=\"#000000\"/>\n<text fill=\"#000000\" font-family=\"Times,serif\" font-size=\"14.00\" text-anchor=\"middle\" x=\"210\" y=\"-340.3\">output:</text>\n<polyline fill=\"none\" points=\"239,-332.5 239,-378.5 \" stroke=\"#000000\"/>\n<text fill=\"#000000\" font-family=\"Times,serif\" font-size=\"14.00\" text-anchor=\"middle\" x=\"305\" y=\"-363.3\">(None, 32, 32, 64)</text>\n<polyline fill=\"none\" points=\"239,-355.5 371,-355.5 \" stroke=\"#000000\"/>\n<text fill=\"#000000\" font-family=\"Times,serif\" font-size=\"14.00\" text-anchor=\"middle\" x=\"305\" y=\"-340.3\">(None, 32, 32, 128)</text>\n</g>\n<!-- 139751762916408&#45;&gt;139751762121560 -->\n<g class=\"edge\" id=\"edge5\">\n<title>139751762916408-&gt;139751762121560</title>\n<path d=\"M209.5,-415.3799C209.5,-407.1745 209.5,-397.7679 209.5,-388.8786\" fill=\"none\" stroke=\"#000000\"/>\n<polygon fill=\"#000000\" points=\"213.0001,-388.784 209.5,-378.784 206.0001,-388.784 213.0001,-388.784\" stroke=\"#000000\"/>\n</g>\n<!-- 139751763236344 -->\n<g class=\"node\" id=\"node6\">\n<title>139751763236344</title>\n<polygon fill=\"none\" points=\"4,-249.5 4,-295.5 415,-295.5 415,-249.5 4,-249.5\" stroke=\"#000000\"/>\n<text fill=\"#000000\" font-family=\"Times,serif\" font-size=\"14.00\" text-anchor=\"middle\" x=\"114.5\" y=\"-268.8\">max_pooling2d_6: MaxPooling2D</text>\n<polyline fill=\"none\" points=\"225,-249.5 225,-295.5 \" stroke=\"#000000\"/>\n<text fill=\"#000000\" font-family=\"Times,serif\" font-size=\"14.00\" text-anchor=\"middle\" x=\"254\" y=\"-280.3\">input:</text>\n<polyline fill=\"none\" points=\"225,-272.5 283,-272.5 \" stroke=\"#000000\"/>\n<text fill=\"#000000\" font-family=\"Times,serif\" font-size=\"14.00\" text-anchor=\"middle\" x=\"254\" y=\"-257.3\">output:</text>\n<polyline fill=\"none\" points=\"283,-249.5 283,-295.5 \" stroke=\"#000000\"/>\n<text fill=\"#000000\" font-family=\"Times,serif\" font-size=\"14.00\" text-anchor=\"middle\" x=\"349\" y=\"-280.3\">(None, 32, 32, 128)</text>\n<polyline fill=\"none\" points=\"283,-272.5 415,-272.5 \" stroke=\"#000000\"/>\n<text fill=\"#000000\" font-family=\"Times,serif\" font-size=\"14.00\" text-anchor=\"middle\" x=\"349\" y=\"-257.3\">(None, 16, 16, 128)</text>\n</g>\n<!-- 139751762121560&#45;&gt;139751763236344 -->\n<g class=\"edge\" id=\"edge6\">\n<title>139751762121560-&gt;139751763236344</title>\n<path d=\"M209.5,-332.3799C209.5,-324.1745 209.5,-314.7679 209.5,-305.8786\" fill=\"none\" stroke=\"#000000\"/>\n<polygon fill=\"#000000\" points=\"213.0001,-305.784 209.5,-295.784 206.0001,-305.784 213.0001,-305.784\" stroke=\"#000000\"/>\n</g>\n<!-- 139751762877912 -->\n<g class=\"node\" id=\"node7\">\n<title>139751762877912</title>\n<polygon fill=\"none\" points=\"58,-166.5 58,-212.5 361,-212.5 361,-166.5 58,-166.5\" stroke=\"#000000\"/>\n<text fill=\"#000000\" font-family=\"Times,serif\" font-size=\"14.00\" text-anchor=\"middle\" x=\"114.5\" y=\"-185.8\">flatten_2: Flatten</text>\n<polyline fill=\"none\" points=\"171,-166.5 171,-212.5 \" stroke=\"#000000\"/>\n<text fill=\"#000000\" font-family=\"Times,serif\" font-size=\"14.00\" text-anchor=\"middle\" x=\"200\" y=\"-197.3\">input:</text>\n<polyline fill=\"none\" points=\"171,-189.5 229,-189.5 \" stroke=\"#000000\"/>\n<text fill=\"#000000\" font-family=\"Times,serif\" font-size=\"14.00\" text-anchor=\"middle\" x=\"200\" y=\"-174.3\">output:</text>\n<polyline fill=\"none\" points=\"229,-166.5 229,-212.5 \" stroke=\"#000000\"/>\n<text fill=\"#000000\" font-family=\"Times,serif\" font-size=\"14.00\" text-anchor=\"middle\" x=\"295\" y=\"-197.3\">(None, 16, 16, 128)</text>\n<polyline fill=\"none\" points=\"229,-189.5 361,-189.5 \" stroke=\"#000000\"/>\n<text fill=\"#000000\" font-family=\"Times,serif\" font-size=\"14.00\" text-anchor=\"middle\" x=\"295\" y=\"-174.3\">(None, 32768)</text>\n</g>\n<!-- 139751763236344&#45;&gt;139751762877912 -->\n<g class=\"edge\" id=\"edge7\">\n<title>139751763236344-&gt;139751762877912</title>\n<path d=\"M209.5,-249.3799C209.5,-241.1745 209.5,-231.7679 209.5,-222.8786\" fill=\"none\" stroke=\"#000000\"/>\n<polygon fill=\"#000000\" points=\"213.0001,-222.784 209.5,-212.784 206.0001,-222.784 213.0001,-222.784\" stroke=\"#000000\"/>\n</g>\n<!-- 139751762209872 -->\n<g class=\"node\" id=\"node8\">\n<title>139751762209872</title>\n<polygon fill=\"none\" points=\"76,-83.5 76,-129.5 343,-129.5 343,-83.5 76,-83.5\" stroke=\"#000000\"/>\n<text fill=\"#000000\" font-family=\"Times,serif\" font-size=\"14.00\" text-anchor=\"middle\" x=\"129.5\" y=\"-102.8\">dense_3: Dense</text>\n<polyline fill=\"none\" points=\"183,-83.5 183,-129.5 \" stroke=\"#000000\"/>\n<text fill=\"#000000\" font-family=\"Times,serif\" font-size=\"14.00\" text-anchor=\"middle\" x=\"212\" y=\"-114.3\">input:</text>\n<polyline fill=\"none\" points=\"183,-106.5 241,-106.5 \" stroke=\"#000000\"/>\n<text fill=\"#000000\" font-family=\"Times,serif\" font-size=\"14.00\" text-anchor=\"middle\" x=\"212\" y=\"-91.3\">output:</text>\n<polyline fill=\"none\" points=\"241,-83.5 241,-129.5 \" stroke=\"#000000\"/>\n<text fill=\"#000000\" font-family=\"Times,serif\" font-size=\"14.00\" text-anchor=\"middle\" x=\"292\" y=\"-114.3\">(None, 32768)</text>\n<polyline fill=\"none\" points=\"241,-106.5 343,-106.5 \" stroke=\"#000000\"/>\n<text fill=\"#000000\" font-family=\"Times,serif\" font-size=\"14.00\" text-anchor=\"middle\" x=\"292\" y=\"-91.3\">(None, 1024)</text>\n</g>\n<!-- 139751762877912&#45;&gt;139751762209872 -->\n<g class=\"edge\" id=\"edge8\">\n<title>139751762877912-&gt;139751762209872</title>\n<path d=\"M209.5,-166.3799C209.5,-158.1745 209.5,-148.7679 209.5,-139.8786\" fill=\"none\" stroke=\"#000000\"/>\n<polygon fill=\"#000000\" points=\"213.0001,-139.784 209.5,-129.784 206.0001,-139.784 213.0001,-139.784\" stroke=\"#000000\"/>\n</g>\n<!-- 139751762206848 -->\n<g class=\"node\" id=\"node9\">\n<title>139751762206848</title>\n<polygon fill=\"none\" points=\"79.5,-.5 79.5,-46.5 339.5,-46.5 339.5,-.5 79.5,-.5\" stroke=\"#000000\"/>\n<text fill=\"#000000\" font-family=\"Times,serif\" font-size=\"14.00\" text-anchor=\"middle\" x=\"133\" y=\"-19.8\">dense_4: Dense</text>\n<polyline fill=\"none\" points=\"186.5,-.5 186.5,-46.5 \" stroke=\"#000000\"/>\n<text fill=\"#000000\" font-family=\"Times,serif\" font-size=\"14.00\" text-anchor=\"middle\" x=\"215.5\" y=\"-31.3\">input:</text>\n<polyline fill=\"none\" points=\"186.5,-23.5 244.5,-23.5 \" stroke=\"#000000\"/>\n<text fill=\"#000000\" font-family=\"Times,serif\" font-size=\"14.00\" text-anchor=\"middle\" x=\"215.5\" y=\"-8.3\">output:</text>\n<polyline fill=\"none\" points=\"244.5,-.5 244.5,-46.5 \" stroke=\"#000000\"/>\n<text fill=\"#000000\" font-family=\"Times,serif\" font-size=\"14.00\" text-anchor=\"middle\" x=\"292\" y=\"-31.3\">(None, 1024)</text>\n<polyline fill=\"none\" points=\"244.5,-23.5 339.5,-23.5 \" stroke=\"#000000\"/>\n<text fill=\"#000000\" font-family=\"Times,serif\" font-size=\"14.00\" text-anchor=\"middle\" x=\"292\" y=\"-8.3\">(None, 1)</text>\n</g>\n<!-- 139751762209872&#45;&gt;139751762206848 -->\n<g class=\"edge\" id=\"edge9\">\n<title>139751762209872-&gt;139751762206848</title>\n<path d=\"M209.5,-83.3799C209.5,-75.1745 209.5,-65.7679 209.5,-56.8786\" fill=\"none\" stroke=\"#000000\"/>\n<polygon fill=\"#000000\" points=\"213.0001,-56.784 209.5,-46.784 206.0001,-56.784 213.0001,-56.784\" stroke=\"#000000\"/>\n</g>\n<!-- 139751762098832 -->\n<g class=\"node\" id=\"node10\">\n<title>139751762098832</title>\n<polygon fill=\"none\" points=\"145,-747.5 145,-783.5 274,-783.5 274,-747.5 145,-747.5\" stroke=\"#000000\"/>\n<text fill=\"#000000\" font-family=\"Times,serif\" font-size=\"14.00\" text-anchor=\"middle\" x=\"209.5\" y=\"-761.8\">139751762098832</text>\n</g>\n<!-- 139751762098832&#45;&gt;139751762661160 -->\n<g class=\"edge\" id=\"edge1\">\n<title>139751762098832-&gt;139751762661160</title>\n<path d=\"M209.5,-747.4092C209.5,-739.4308 209.5,-729.795 209.5,-720.606\" fill=\"none\" stroke=\"#000000\"/>\n<polygon fill=\"#000000\" points=\"213.0001,-720.5333 209.5,-710.5333 206.0001,-720.5334 213.0001,-720.5333\" stroke=\"#000000\"/>\n</g>\n</g>\n</svg>"
          },
          "metadata": {
            "tags": []
          },
          "execution_count": 13
        }
      ]
    },
    {
      "metadata": {
        "id": "N8phY8wxQ7TB",
        "colab_type": "code",
        "colab": {}
      },
      "cell_type": "code",
      "source": [
        "# 모델 학습과정 설정 \n",
        "model.compile(loss='binary_crossentropy', optimizer='adam', metrics=['accuracy'])\n",
        "\n",
        "# 조기종료함수 \n",
        "from keras.callbacks import EarlyStopping\n",
        "early_stopping = EarlyStopping(patience = 5) # 조기종료 콜백함수 정의"
      ],
      "execution_count": 0,
      "outputs": []
    },
    {
      "metadata": {
        "id": "WJGHeWopQ7ZP",
        "colab_type": "code",
        "outputId": "ae8fda89-de14-4f68-ac2a-3e4db55097c8",
        "colab": {
          "base_uri": "https://localhost:8080/",
          "height": 992
        }
      },
      "cell_type": "code",
      "source": [
        "# 모델 학습시키기 \n",
        "hist = model.fit_generator(\n",
        "        train_generator,\n",
        "        steps_per_epoch=20,  # train sample 1230, batch size 64\n",
        "        epochs=30,\n",
        "        validation_data=test_generator,\n",
        "        validation_steps=5, # test sample 292, batch size 64\n",
        "        #callbacks=[early_stopping]\n",
        "        )  "
      ],
      "execution_count": 15,
      "outputs": [
        {
          "output_type": "stream",
          "text": [
            "Epoch 1/30\n",
            "20/20 [==============================] - 62s 3s/step - loss: 0.8201 - acc: 0.4876 - val_loss: 0.6930 - val_acc: 0.5616\n",
            "Epoch 2/30\n",
            "20/20 [==============================] - 58s 3s/step - loss: 0.6925 - acc: 0.5188 - val_loss: 0.6937 - val_acc: 0.4966\n",
            "Epoch 3/30\n",
            "20/20 [==============================] - 58s 3s/step - loss: 0.6936 - acc: 0.5341 - val_loss: 0.7152 - val_acc: 0.4897\n",
            "Epoch 4/30\n",
            "20/20 [==============================] - 58s 3s/step - loss: 0.6912 - acc: 0.5460 - val_loss: 0.6876 - val_acc: 0.5651\n",
            "Epoch 5/30\n",
            "20/20 [==============================] - 58s 3s/step - loss: 0.6854 - acc: 0.5482 - val_loss: 0.7199 - val_acc: 0.5514\n",
            "Epoch 6/30\n",
            "20/20 [==============================] - 58s 3s/step - loss: 0.6852 - acc: 0.5632 - val_loss: 0.6890 - val_acc: 0.5479\n",
            "Epoch 7/30\n",
            "20/20 [==============================] - 58s 3s/step - loss: 0.6727 - acc: 0.5942 - val_loss: 0.7047 - val_acc: 0.5308\n",
            "Epoch 8/30\n",
            "20/20 [==============================] - 59s 3s/step - loss: 0.6563 - acc: 0.6246 - val_loss: 0.7105 - val_acc: 0.5788\n",
            "Epoch 9/30\n",
            "20/20 [==============================] - 58s 3s/step - loss: 0.6365 - acc: 0.6622 - val_loss: 0.6759 - val_acc: 0.6130\n",
            "Epoch 10/30\n",
            "20/20 [==============================] - 58s 3s/step - loss: 0.6156 - acc: 0.6677 - val_loss: 0.6645 - val_acc: 0.6336\n",
            "Epoch 11/30\n",
            "20/20 [==============================] - 59s 3s/step - loss: 0.5922 - acc: 0.7151 - val_loss: 0.6513 - val_acc: 0.6473\n",
            "Epoch 12/30\n",
            "20/20 [==============================] - 58s 3s/step - loss: 0.5678 - acc: 0.7088 - val_loss: 0.6259 - val_acc: 0.7089\n",
            "Epoch 13/30\n",
            "20/20 [==============================] - 58s 3s/step - loss: 0.5299 - acc: 0.7498 - val_loss: 0.6403 - val_acc: 0.7021\n",
            "Epoch 14/30\n",
            "20/20 [==============================] - 59s 3s/step - loss: 0.5598 - acc: 0.7107 - val_loss: 0.5776 - val_acc: 0.6575\n",
            "Epoch 15/30\n",
            "20/20 [==============================] - 58s 3s/step - loss: 0.5349 - acc: 0.7368 - val_loss: 0.5997 - val_acc: 0.7055\n",
            "Epoch 16/30\n",
            "20/20 [==============================] - 58s 3s/step - loss: 0.5179 - acc: 0.7365 - val_loss: 0.6229 - val_acc: 0.6849\n",
            "Epoch 17/30\n",
            "20/20 [==============================] - 58s 3s/step - loss: 0.4856 - acc: 0.7660 - val_loss: 0.6524 - val_acc: 0.6370\n",
            "Epoch 18/30\n",
            "20/20 [==============================] - 58s 3s/step - loss: 0.5319 - acc: 0.7271 - val_loss: 0.6017 - val_acc: 0.6712\n",
            "Epoch 19/30\n",
            "20/20 [==============================] - 58s 3s/step - loss: 0.4636 - acc: 0.7830 - val_loss: 0.6461 - val_acc: 0.6815\n",
            "Epoch 20/30\n",
            "20/20 [==============================] - 58s 3s/step - loss: 0.4549 - acc: 0.7854 - val_loss: 0.6559 - val_acc: 0.6336\n",
            "Epoch 21/30\n",
            "20/20 [==============================] - 58s 3s/step - loss: 0.4267 - acc: 0.8128 - val_loss: 0.7046 - val_acc: 0.6541\n",
            "Epoch 22/30\n",
            "20/20 [==============================] - 58s 3s/step - loss: 0.4073 - acc: 0.8142 - val_loss: 0.6343 - val_acc: 0.6747\n",
            "Epoch 23/30\n",
            "20/20 [==============================] - 58s 3s/step - loss: 0.3872 - acc: 0.8201 - val_loss: 0.7728 - val_acc: 0.6473\n",
            "Epoch 24/30\n",
            "20/20 [==============================] - 59s 3s/step - loss: 0.3481 - acc: 0.8491 - val_loss: 0.6710 - val_acc: 0.7021\n",
            "Epoch 25/30\n",
            "20/20 [==============================] - 58s 3s/step - loss: 0.3649 - acc: 0.8419 - val_loss: 0.7900 - val_acc: 0.6199\n",
            "Epoch 26/30\n",
            "20/20 [==============================] - 58s 3s/step - loss: 0.3119 - acc: 0.8699 - val_loss: 0.8132 - val_acc: 0.6096\n",
            "Epoch 27/30\n",
            "20/20 [==============================] - 58s 3s/step - loss: 0.2662 - acc: 0.8824 - val_loss: 0.7959 - val_acc: 0.6678\n",
            "Epoch 28/30\n",
            "20/20 [==============================] - 58s 3s/step - loss: 0.2524 - acc: 0.8976 - val_loss: 0.8690 - val_acc: 0.6507\n",
            "Epoch 29/30\n",
            "20/20 [==============================] - 58s 3s/step - loss: 0.2292 - acc: 0.9006 - val_loss: 0.8532 - val_acc: 0.6747\n",
            "Epoch 30/30\n",
            "20/20 [==============================] - 58s 3s/step - loss: 0.1768 - acc: 0.9382 - val_loss: 1.0105 - val_acc: 0.6747\n"
          ],
          "name": "stdout"
        }
      ]
    },
    {
      "metadata": {
        "id": "-vL9C_f6WqaB",
        "colab_type": "code",
        "outputId": "5e3817f0-bc0d-4f2a-b60d-5555c3539ddb",
        "colab": {
          "base_uri": "https://localhost:8080/",
          "height": 280
        }
      },
      "cell_type": "code",
      "source": [
        "# 모델 학습 과정 표시하기\n",
        "%matplotlib inline\n",
        "import matplotlib.pyplot as plt\n",
        "\n",
        "fig, loss_ax = plt.subplots()\n",
        "\n",
        "acc_ax = loss_ax.twinx()\n",
        "\n",
        "loss_ax.plot(hist.history['loss'], 'y', label='train loss')\n",
        "loss_ax.plot(hist.history['val_loss'], 'r', label='val loss')\n",
        "\n",
        "acc_ax.plot(hist.history['acc'], 'b', label='train acc')\n",
        "acc_ax.plot(hist.history['val_acc'], 'g', label='val acc')\n",
        "\n",
        "loss_ax.set_xlabel('epoch')\n",
        "loss_ax.set_ylabel('loss')\n",
        "acc_ax.set_ylabel('accuray')\n",
        "\n",
        "loss_ax.legend(loc='upper left')\n",
        "acc_ax.legend(loc='lower left')\n",
        "\n",
        "plt.show()"
      ],
      "execution_count": 16,
      "outputs": [
        {
          "output_type": "display_data",
          "data": {
            "image/png": "[encoded data removed]",
            "text/plain": [
              "<matplotlib.figure.Figure at 0x7f1a7e3d6dd8>"
            ]
          },
          "metadata": {
            "tags": []
          }
        }
      ]
    },
    {
      "metadata": {
        "id": "GDsJqH_7T0vb",
        "colab_type": "code",
        "outputId": "c9d9c305-5fb6-4002-e1f8-e36ae10516bb",
        "colab": {
          "base_uri": "https://localhost:8080/",
          "height": 50
        }
      },
      "cell_type": "code",
      "source": [
        "# 모델 평가하기 \n",
        "print(\"-- Evaluate --\")\n",
        "scores = model.evaluate_generator(test_generator, steps=5)\n",
        "print(\"%s: %.2f%%\" %(model.metrics_names[1], scores[1]*100))"
      ],
      "execution_count": 17,
      "outputs": [
        {
          "output_type": "stream",
          "text": [
            "-- Evaluate --\n",
            "acc: 66.44%\n"
          ],
          "name": "stdout"
        }
      ]
    },
    {
      "metadata": {
        "id": "jgr3JiXBWHXG",
        "colab_type": "code",
        "outputId": "6cfb3e2c-2826-4d7f-c0b3-b0556496925c",
        "colab": {
          "base_uri": "https://localhost:8080/",
          "height": 4795
        }
      },
      "cell_type": "code",
      "source": [
        "# 모델 사용하기 \n",
        "print(\"-- Predict --\")\n",
        "output = model.predict_generator(test_generator, steps=5)\n",
        "np.set_printoptions(formatter={'float': lambda x: \"{0:0.3f}\".format(x)})\n",
        "print(test_generator.class_indices)\n",
        "print(output)"
      ],
      "execution_count": 18,
      "outputs": [
        {
          "output_type": "stream",
          "text": [
            "-- Predict --\n",
            "{'0': 0, '1': 1}\n",
            "[[0.047]\n",
            " [0.492]\n",
            " [0.225]\n",
            " [0.017]\n",
            " [0.649]\n",
            " [0.769]\n",
            " [0.999]\n",
            " [0.543]\n",
            " [0.005]\n",
            " [0.997]\n",
            " [0.983]\n",
            " [0.963]\n",
            " [0.810]\n",
            " [0.000]\n",
            " [0.940]\n",
            " [0.106]\n",
            " [0.038]\n",
            " [0.472]\n",
            " [1.000]\n",
            " [0.936]\n",
            " [0.677]\n",
            " [0.949]\n",
            " [0.136]\n",
            " [0.395]\n",
            " [0.732]\n",
            " [0.996]\n",
            " [0.136]\n",
            " [0.886]\n",
            " [0.987]\n",
            " [0.669]\n",
            " [0.062]\n",
            " [0.069]\n",
            " [0.989]\n",
            " [0.859]\n",
            " [0.007]\n",
            " [0.363]\n",
            " [0.098]\n",
            " [0.889]\n",
            " [0.326]\n",
            " [0.173]\n",
            " [0.986]\n",
            " [0.001]\n",
            " [0.987]\n",
            " [0.995]\n",
            " [0.303]\n",
            " [0.002]\n",
            " [0.025]\n",
            " [0.000]\n",
            " [0.019]\n",
            " [0.892]\n",
            " [0.721]\n",
            " [0.689]\n",
            " [0.979]\n",
            " [0.041]\n",
            " [0.925]\n",
            " [0.988]\n",
            " [0.213]\n",
            " [0.020]\n",
            " [1.000]\n",
            " [0.471]\n",
            " [0.014]\n",
            " [0.999]\n",
            " [0.224]\n",
            " [0.575]\n",
            " [0.727]\n",
            " [0.945]\n",
            " [0.998]\n",
            " [0.000]\n",
            " [0.957]\n",
            " [0.717]\n",
            " [0.967]\n",
            " [0.934]\n",
            " [0.973]\n",
            " [0.957]\n",
            " [0.247]\n",
            " [0.944]\n",
            " [0.077]\n",
            " [0.081]\n",
            " [0.748]\n",
            " [0.596]\n",
            " [0.739]\n",
            " [0.999]\n",
            " [1.000]\n",
            " [0.953]\n",
            " [0.882]\n",
            " [0.995]\n",
            " [0.731]\n",
            " [0.629]\n",
            " [0.019]\n",
            " [0.994]\n",
            " [0.909]\n",
            " [0.999]\n",
            " [0.825]\n",
            " [0.201]\n",
            " [0.001]\n",
            " [0.727]\n",
            " [0.032]\n",
            " [0.006]\n",
            " [0.304]\n",
            " [0.015]\n",
            " [0.857]\n",
            " [0.925]\n",
            " [0.155]\n",
            " [0.402]\n",
            " [0.171]\n",
            " [0.947]\n",
            " [0.669]\n",
            " [0.081]\n",
            " [0.469]\n",
            " [0.133]\n",
            " [0.699]\n",
            " [0.908]\n",
            " [0.996]\n",
            " [0.978]\n",
            " [0.999]\n",
            " [0.587]\n",
            " [0.581]\n",
            " [0.980]\n",
            " [0.000]\n",
            " [0.989]\n",
            " [0.023]\n",
            " [0.766]\n",
            " [1.000]\n",
            " [0.223]\n",
            " [0.969]\n",
            " [0.645]\n",
            " [0.957]\n",
            " [0.367]\n",
            " [0.973]\n",
            " [0.596]\n",
            " [0.892]\n",
            " [0.967]\n",
            " [0.611]\n",
            " [0.649]\n",
            " [0.017]\n",
            " [0.007]\n",
            " [0.074]\n",
            " [0.996]\n",
            " [0.882]\n",
            " [0.995]\n",
            " [0.999]\n",
            " [0.136]\n",
            " [0.961]\n",
            " [0.661]\n",
            " [0.038]\n",
            " [0.739]\n",
            " [0.999]\n",
            " [0.998]\n",
            " [0.973]\n",
            " [0.010]\n",
            " [0.000]\n",
            " [0.665]\n",
            " [0.014]\n",
            " [0.158]\n",
            " [0.993]\n",
            " [0.067]\n",
            " [0.949]\n",
            " [0.669]\n",
            " [0.999]\n",
            " [0.098]\n",
            " [0.810]\n",
            " [0.999]\n",
            " [0.797]\n",
            " [0.468]\n",
            " [0.414]\n",
            " [0.246]\n",
            " [0.983]\n",
            " [0.958]\n",
            " [0.093]\n",
            " [0.870]\n",
            " [0.500]\n",
            " [0.022]\n",
            " [0.810]\n",
            " [0.303]\n",
            " [0.836]\n",
            " [0.689]\n",
            " [0.000]\n",
            " [0.326]\n",
            " [0.894]\n",
            " [0.056]\n",
            " [0.989]\n",
            " [0.025]\n",
            " [0.893]\n",
            " [0.008]\n",
            " [0.339]\n",
            " [0.913]\n",
            " [0.008]\n",
            " [0.054]\n",
            " [0.944]\n",
            " [0.000]\n",
            " [0.257]\n",
            " [0.891]\n",
            " [0.000]\n",
            " [0.001]\n",
            " [0.984]\n",
            " [0.041]\n",
            " [0.009]\n",
            " [0.865]\n",
            " [0.126]\n",
            " [0.851]\n",
            " [0.222]\n",
            " [0.569]\n",
            " [0.987]\n",
            " [0.915]\n",
            " [0.025]\n",
            " [0.669]\n",
            " [0.010]\n",
            " [0.748]\n",
            " [0.472]\n",
            " [0.318]\n",
            " [0.677]\n",
            " [0.956]\n",
            " [1.000]\n",
            " [0.994]\n",
            " [0.009]\n",
            " [0.913]\n",
            " [0.000]\n",
            " [0.999]\n",
            " [0.980]\n",
            " [0.173]\n",
            " [0.139]\n",
            " [0.471]\n",
            " [0.050]\n",
            " [0.242]\n",
            " [0.069]\n",
            " [0.825]\n",
            " [0.983]\n",
            " [0.892]\n",
            " [0.907]\n",
            " [0.999]\n",
            " [0.021]\n",
            " [0.999]\n",
            " [0.999]\n",
            " [0.821]\n",
            " [0.862]\n",
            " [0.657]\n",
            " [0.194]\n",
            " [0.886]\n",
            " [0.999]\n",
            " [0.698]\n",
            " [0.140]\n",
            " [0.994]\n",
            " [0.007]\n",
            " [0.956]\n",
            " [0.001]\n",
            " [0.948]\n",
            " [0.725]\n",
            " [0.038]\n",
            " [0.966]\n",
            " [0.929]\n",
            " [0.886]\n",
            " [0.997]\n",
            " [0.727]\n",
            " [0.708]\n",
            " [0.953]\n",
            " [0.000]\n",
            " [0.492]\n",
            " [0.047]\n",
            " [0.787]\n",
            " [0.018]\n",
            " [0.999]\n",
            " [0.964]\n",
            " [1.000]\n",
            " [0.140]\n",
            " [0.014]\n",
            " [0.310]\n",
            " [0.999]\n",
            " [0.997]\n",
            " [0.003]\n",
            " [0.056]\n",
            " [1.000]\n",
            " [0.993]\n",
            " [0.044]\n",
            " [0.666]\n",
            " [0.120]\n",
            " [0.999]\n",
            " [0.478]\n",
            " [0.004]\n",
            " [1.000]\n",
            " [1.000]\n",
            " [0.831]\n",
            " [0.006]\n",
            " [0.717]\n",
            " [0.995]\n",
            " [0.038]\n",
            " [0.727]\n",
            " [0.363]\n",
            " [0.442]\n",
            " [0.036]\n",
            " [0.461]\n",
            " [1.000]\n",
            " [0.941]]\n"
          ],
          "name": "stdout"
        }
      ]
    },
    {
      "metadata": {
        "id": "ssjHwbkBV9hl",
        "colab_type": "code",
        "colab": {}
      },
      "cell_type": "code",
      "source": [
        ""
      ],
      "execution_count": 0,
      "outputs": []
    }
  ]
}