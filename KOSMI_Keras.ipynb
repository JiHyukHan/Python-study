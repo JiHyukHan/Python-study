
KOSMI 예제를 Keras 로 바꿔보기
google drive mount

[2]

from google.colab import auth
auth.authenticate_user()

from google.colab import drive
drive.mount('/content/gdrive')
from google.colab import auth
auth.authenticate_user()
​
from google.colab import drive
drive.mount('/content/gdrive')

[ ]

with open('/content/gdrive/My Drive/foo.txt', 'w') as f:
  f.write('Hello Google Drive!')
!cat /content/gdrive/My\ Drive/foo.txt

[3]

ls gdrive/My\ Drive

[4]


import PIL 
from PIL import Image
import matplotlib.pyplot as plt
​
import numpy as np
from keras.models import Sequential
from keras.layers import Dense, Activation, Conv2D, MaxPooling2D, Flatten, Dropout
from keras.preprocessing.image import ImageDataGenerator
​

[6]

# 랜덤시드 고정시키기
np.random.seed(2)
​
# 데이터셋 생성하기 
train_datagen = ImageDataGenerator(rescale=1./255)
​
train_generator = train_datagen.flow_from_directory(
        'gdrive/My Drive/dataset/KOSMI_tutorial/retinopathy_dataset_resize_gray/train',
        target_size=(128, 128),
        batch_size=64,
        class_mode='binary') # 카테고리로 하면 모델 학습시 에러, 이진 분류면 꼭 binary 로 해야하는듯 
​
test_datagen = ImageDataGenerator(rescale=1./255)
​
test_generator = test_datagen.flow_from_directory(
        'gdrive/My Drive/dataset/KOSMI_tutorial/retinopathy_dataset_resize_gray/test',
        target_size=(128, 128),    
        batch_size=64,
        class_mode='binary')

[12]

#
# 모델 구성 
model = Sequential()
model.add(Conv2D(16, (3, 3), padding='same', activation='relu', input_shape=(128, 128, 3)))
model.add(MaxPooling2D(pool_size=(2, 2)))
#model.add(Dropout(0.1))
model.add(Conv2D(64, (3, 3), padding='same', activation='relu'))
model.add(MaxPooling2D(pool_size=(2, 2)))
#model.add(Dropout(0.1))
model.add(Conv2D(128, (3, 3), padding='same', activation='relu'))
model.add(MaxPooling2D(pool_size=(2, 2)))
model.add(Flatten())
model.add(Dense(1024, activation='relu'))
#model.add(Dropout(0.1))
model.add(Dense(1, activation='sigmoid')) # 0, 1 의 이진분류 
[13]

# 모델 시각화 
from IPython.display import SVG
from keras.utils.vis_utils import model_to_dot
​
%matplotlib inline
​
SVG(model_to_dot(model, show_shapes=True).create(prog='dot', format='svg'))

[14]

# 모델 학습과정 설정 
model.compile(loss='binary_crossentropy', optimizer='adam', metrics=['accuracy'])
​
# 조기종료함수 
from keras.callbacks import EarlyStopping
early_stopping = EarlyStopping(patience = 5) # 조기종료 콜백함수 정의
[15]

#
# 모델 학습시키기 
hist = model.fit_generator(
        train_generator,
        steps_per_epoch=20,  # train sample 1230, batch size 64
        epochs=30,
        validation_data=test_generator,
        validation_steps=5, # test sample 292, batch size 64
        #callbacks=[early_stopping]
        )  

[16]

# 모델 학습 과정 표시하기
%matplotlib inline
import matplotlib.pyplot as plt
​
fig, loss_ax = plt.subplots()
​
acc_ax = loss_ax.twinx()
​
loss_ax.plot(hist.history['loss'], 'y', label='train loss')
loss_ax.plot(hist.history['val_loss'], 'r', label='val loss')
​
acc_ax.plot(hist.history['acc'], 'b', label='train acc')
acc_ax.plot(hist.history['val_acc'], 'g', label='val acc')
​
loss_ax.set_xlabel('epoch')
loss_ax.set_ylabel('loss')
acc_ax.set_ylabel('accuray')
​
loss_ax.legend(loc='upper left')
acc_ax.legend(loc='lower left')
​
plt.show()

[17]

# 모델 평가하기 
print("-- Evaluate --")
scores = model.evaluate_generator(test_generator, steps=5)
print("%s: %.2f%%" %(model.metrics_names[1], scores[1]*100))

[18]

# 모델 사용하기 
print("-- Predict --")
output = model.predict_generator(test_generator, steps=5)
np.set_printoptions(formatter={'float': lambda x: "{0:0.3f}".format(x)})
print(test_generator.class_indices)
print(output)

[ ]

​

KOSMI_Keras.ipynb
KOSMI_Keras.ipynb_
저장이 완료되었습니다.
