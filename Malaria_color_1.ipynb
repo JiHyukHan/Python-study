{
  "nbformat": 4,
  "nbformat_minor": 0,
  "metadata": {
    "colab": {
      "name": "Malaria_color_1.0.ipynb",
      "version": "0.3.2",
      "provenance": [],
      "collapsed_sections": []
    },
    "kernelspec": {
      "name": "python3",
      "display_name": "Python 3"
    },
    "accelerator": "GPU"
  },
  "cells": [
    {
      "metadata": {
        "id": "slz-S1mFWk19",
        "colab_type": "text"
      },
      "cell_type": "markdown",
      "source": [
        "#말라리아 감염 구분 \n"
      ]
    },
    {
      "metadata": {
        "id": "PEHxb-k_WtuH",
        "colab_type": "text"
      },
      "cell_type": "markdown",
      "source": [
        "google drive mount"
      ]
    },
    {
      "metadata": {
        "id": "XtI40g1HHkkt",
        "colab_type": "code",
        "outputId": "38b9d7be-9949-4802-bd68-2cbb26052c92",
        "colab": {
          "base_uri": "https://localhost:8080/",
          "height": 118
        }
      },
      "cell_type": "code",
      "source": [
        "from google.colab import auth\n",
        "auth.authenticate_user()\n",
        "\n",
        "from google.colab import drive\n",
        "drive.mount('/content/gdrive')"
      ],
      "execution_count": 0,
      "outputs": [
        {
          "output_type": "stream",
          "text": [
            "Go to this URL in a browser: https://accounts.google.com/o/oauth2/auth?client_id=947318989803-6bn6qk8qdgf4n4g3pfee6491hc0brc4i.apps.googleusercontent.com&redirect_uri=urn%3Aietf%3Awg%3Aoauth%3A2.0%3Aoob&scope=email%20https%3A%2F%2Fwww.googleapis.com%2Fauth%2Fdocs.test%20https%3A%2F%2Fwww.googleapis.com%2Fauth%2Fdrive%20https%3A%2F%2Fwww.googleapis.com%2Fauth%2Fdrive.photos.readonly%20https%3A%2F%2Fwww.googleapis.com%2Fauth%2Fpeopleapi.readonly&response_type=code\n",
            "\n",
            "Enter your authorization code:\n",
            "··········\n",
            "Mounted at /content/gdrive\n"
          ],
          "name": "stdout"
        }
      ]
    },
    {
      "metadata": {
        "id": "VsbEPfQ_Hx7l",
        "colab_type": "code",
        "outputId": "bba98c7d-d601-4738-dad4-ff7f250dc30f",
        "colab": {
          "base_uri": "https://localhost:8080/",
          "height": 33
        }
      },
      "cell_type": "code",
      "source": [
        "ls gdrive/My\\ Drive"
      ],
      "execution_count": 22,
      "outputs": [
        {
          "output_type": "stream",
          "text": [
            "\u001b[0m\u001b[01;34m'Colab Notebooks'\u001b[0m/   \u001b[01;34mdataset\u001b[0m/   foo.txt   \u001b[01;34mKeras\u001b[0m/\n"
          ],
          "name": "stdout"
        }
      ]
    },
    {
      "metadata": {
        "id": "Cas2Cv6ZWxF2",
        "colab_type": "text"
      },
      "cell_type": "markdown",
      "source": [
        "#데이터 준비\n"
      ]
    },
    {
      "metadata": {
        "id": "BxyjbfFzbdK2",
        "colab_type": "code",
        "colab": {}
      },
      "cell_type": "code",
      "source": [
        "import os\n",
        "import numpy as np\n",
        "import pandas as pd\n",
        "\n",
        "import PIL \n",
        "from PIL import Image\n",
        "import matplotlib.pyplot as plt\n",
        "\n",
        "from keras import optimizers\n",
        "from keras.models import Sequential\n",
        "from keras.layers import Dense, Activation, Conv2D, MaxPooling2D, Flatten, Dropout\n",
        "from keras.preprocessing.image import ImageDataGenerator"
      ],
      "execution_count": 0,
      "outputs": []
    },
    {
      "metadata": {
        "id": "zQbpXoLXha0M",
        "colab_type": "code",
        "outputId": "e36553ae-f076-4cc9-f725-09ba900c4804",
        "colab": {
          "base_uri": "https://localhost:8080/",
          "height": 145
        }
      },
      "cell_type": "code",
      "source": [
        "# 이미지 불러오기 확인 \n",
        "def img_prep(img) : \n",
        "  img = img.resize((img_size,img_size)) \n",
        "  return img \n",
        "\n",
        "img0 = Image.open('gdrive/My Drive/dataset/Malaria/Parasitized_sample/C33P1thinF_IMG_20150619_114756a_cell_179.png') \n",
        "img_size = 128 \n",
        "img_prep(img0)"
      ],
      "execution_count": 27,
      "outputs": [
        {
          "output_type": "execute_result",
          "data": {
            "image/png": "[encoded data removed]",
            "text/plain": [
              "<PIL.Image.Image image mode=RGB size=128x128 at 0x7FE33AE66160>"
            ]
          },
          "metadata": {
            "tags": []
          },
          "execution_count": 27
        }
      ]
    },
    {
      "metadata": {
        "id": "nNgRTaKZOvxM",
        "colab_type": "code",
        "colab": {}
      },
      "cell_type": "code",
      "source": [
        "# 데이터셋 나누기\n",
        "# 추후 train set, test set 나눌 때 set 별 label 비율이 인위적으로 고정되지 않기 위해 전체 이미지를 라벨링 해서 하나의 데이터 셋으로 만듦\n",
        "# glob 라는 함수로 전체 파일을 다 불러올 수 있다는데 해보다 잘 안돼서 이건 추후에 해보겠음 \n",
        "# from glob import glob \n",
        "# data_list = glob('gdrive/My Drive/dataset/Malaria/*/*.png')  \n",
        "\n",
        "np.random.seed(3824)\n",
        "\n",
        "img_size = 128\n",
        "channel = 3\n",
        "\n",
        "def img_prep(img) : \n",
        "  img = img.resize((img_size,img_size)) \n",
        "  return img \n",
        "\n",
        "dataset_name = 'Malaria' \n",
        "\n",
        "img_list = []\n",
        "label_list = []\n",
        "total_imgs = []\n",
        "total_labels = []\n",
        "\n",
        "for folder in ['Uninfected_sample','Parasitized_sample']:\n",
        "  for file in os.listdir('gdrive/My Drive/dataset/{}/{}'.format(dataset_name,folder)):\n",
        "    try:\n",
        "      file_path = 'gdrive/My Drive/dataset/{}/{}/{}'.format(dataset_name,folder,file)\n",
        "      img = Image.open(file_path)\n",
        "      img_p = img_prep(img)\n",
        "    \n",
        "      img_list.append(np.array(img_p))\n",
        "       \n",
        "      if folder =='Uninfected_sample':\n",
        "        label_onehot = np.array([0,1])\n",
        "\n",
        "      elif folder =='Parasitized_sample':\n",
        "        label_onehot = np.array([1,0])\n",
        "\n",
        "      label_list.append(np.array(label_onehot))\n",
        "            \n",
        "      total_imgs = np.array(img_list).reshape(len(img_list),img_size,img_size,channel)\n",
        "      total_labels = np.array(label_list).reshape(len(label_list),2)\n",
        "    except:\n",
        "      pass\n"
      ],
      "execution_count": 0,
      "outputs": []
    },
    {
      "metadata": {
        "id": "1VGSivIXHFaN",
        "colab_type": "code",
        "outputId": "5d7c75b1-f623-492b-88e8-232d242e6105",
        "colab": {
          "base_uri": "https://localhost:8080/",
          "height": 228
        }
      },
      "cell_type": "code",
      "source": [
        "# train/test set 나누기 \n",
        "\n",
        "from sklearn.model_selection import train_test_split  \n",
        "\n",
        "train_imgs, test_imgs, train_labels, test_labels = train_test_split(total_imgs, total_labels, test_size=0.25, shuffle=True, random_state=1234) \n",
        "\n",
        "print(train_imgs.shape)\n",
        "print(test_imgs.shape)\n",
        "print(train_labels.shape)\n",
        "print(test_labels.shape)\n",
        "print(test_labels[:9])"
      ],
      "execution_count": 76,
      "outputs": [
        {
          "output_type": "stream",
          "text": [
            "(1983, 128, 128, 3)\n",
            "(661, 128, 128, 3)\n",
            "(1983, 2)\n",
            "(661, 2)\n",
            "[[0 1]\n",
            " [0 1]\n",
            " [1 0]\n",
            " [1 0]\n",
            " [0 1]\n",
            " [1 0]\n",
            " [1 0]\n",
            " [1 0]\n",
            " [0 1]]\n"
          ],
          "name": "stdout"
        }
      ]
    },
    {
      "metadata": {
        "id": "nSvIdKr7Asd-",
        "colab_type": "text"
      },
      "cell_type": "markdown",
      "source": [
        "# 모델\n"
      ]
    },
    {
      "metadata": {
        "id": "pFIFBSo_Vt0C",
        "colab_type": "code",
        "outputId": "41d4094d-905f-4ac9-8bd4-26cf5c5c9443",
        "colab": {
          "base_uri": "https://localhost:8080/",
          "height": 553
        }
      },
      "cell_type": "code",
      "source": [
        "# 모델 구성 \n",
        "model = Sequential()\n",
        "\n",
        "model.add(Conv2D(16, (3, 3), padding='same', activation='relu', input_shape=(128, 128, 3)))\n",
        "model.add(MaxPooling2D(pool_size=(2, 2)))\n",
        "model.add(Conv2D(32, (3, 3), padding='same', activation='relu'))\n",
        "model.add(MaxPooling2D(pool_size=(2, 2)))\n",
        "model.add(Conv2D(64, (3, 3), padding='same', activation='relu'))\n",
        "model.add(MaxPooling2D(pool_size=(2, 2)))\n",
        "model.add(Conv2D(128, (3, 3), padding='same', activation='relu'))\n",
        "model.add(MaxPooling2D(pool_size=(2, 2)))\n",
        "model.add(Conv2D(128, (3, 3), padding='same', activation='relu'))\n",
        "model.add(MaxPooling2D(pool_size=(2, 2)))\n",
        "model.add(Flatten())\n",
        "model.add(Dense(1024, activation='relu'))\n",
        "model.add(Dense(2, activation='softmax'))\n",
        "\n",
        "model.summary()\n",
        "\n",
        "# 모델 학습과정 설정 \n",
        "adam = optimizers.Adam(lr=0.001, beta_1=0.9, beta_2=0.999, epsilon=None, decay=0.0, amsgrad=False)\n",
        "model.compile(loss='categorical_crossentropy', optimizer='adam', metrics=['accuracy'])\n",
        "\n",
        "# 조기종료함수 \n",
        "from keras.callbacks import EarlyStopping\n",
        "early_stopping = EarlyStopping(patience = 5) # 조기종료 콜백함수 정의"
      ],
      "execution_count": 77,
      "outputs": [
        {
          "output_type": "stream",
          "text": [
            "_________________________________________________________________\n",
            "Layer (type)                 Output Shape              Param #   \n",
            "=================================================================\n",
            "conv2d_71 (Conv2D)           (None, 128, 128, 16)      448       \n",
            "_________________________________________________________________\n",
            "max_pooling2d_71 (MaxPooling (None, 64, 64, 16)        0         \n",
            "_________________________________________________________________\n",
            "conv2d_72 (Conv2D)           (None, 64, 64, 32)        4640      \n",
            "_________________________________________________________________\n",
            "max_pooling2d_72 (MaxPooling (None, 32, 32, 32)        0         \n",
            "_________________________________________________________________\n",
            "conv2d_73 (Conv2D)           (None, 32, 32, 64)        18496     \n",
            "_________________________________________________________________\n",
            "max_pooling2d_73 (MaxPooling (None, 16, 16, 64)        0         \n",
            "_________________________________________________________________\n",
            "conv2d_74 (Conv2D)           (None, 16, 16, 128)       73856     \n",
            "_________________________________________________________________\n",
            "max_pooling2d_74 (MaxPooling (None, 8, 8, 128)         0         \n",
            "_________________________________________________________________\n",
            "conv2d_75 (Conv2D)           (None, 8, 8, 128)         147584    \n",
            "_________________________________________________________________\n",
            "max_pooling2d_75 (MaxPooling (None, 4, 4, 128)         0         \n",
            "_________________________________________________________________\n",
            "flatten_15 (Flatten)         (None, 2048)              0         \n",
            "_________________________________________________________________\n",
            "dense_38 (Dense)             (None, 1024)              2098176   \n",
            "_________________________________________________________________\n",
            "dense_39 (Dense)             (None, 2)                 2050      \n",
            "=================================================================\n",
            "Total params: 2,345,250\n",
            "Trainable params: 2,345,250\n",
            "Non-trainable params: 0\n",
            "_________________________________________________________________\n"
          ],
          "name": "stdout"
        }
      ]
    },
    {
      "metadata": {
        "id": "mgzveLIfag9E",
        "colab_type": "code",
        "outputId": "69af9015-8941-44c0-b078-f50278d1b770",
        "colab": {
          "base_uri": "https://localhost:8080/",
          "height": 491
        }
      },
      "cell_type": "code",
      "source": [
        "# 모델 학습\n",
        "hist = model.fit(train_imgs, train_labels,\n",
        "                batch_size=64,\n",
        "                epochs=20,\n",
        "                validation_data=(test_imgs, test_labels),\n",
        "                callbacks=[early_stopping] \n",
        "                )\n",
        "\n",
        "# 모델 학습 과정 표시하기 \n",
        "%matplotlib inline\n",
        "import matplotlib.pyplot as plt\n",
        "\n",
        "fig, loss_ax = plt.subplots()\n",
        "\n",
        "acc_ax = loss_ax.twinx()\n",
        "\n",
        "loss_ax.plot(hist.history['loss'], 'y', label='train loss')\n",
        "loss_ax.plot(hist.history['val_loss'], 'r', label='val loss')\n",
        "\n",
        "acc_ax.plot(hist.history['acc'], 'b', label='train acc')\n",
        "acc_ax.plot(hist.history['val_acc'], 'g', label='val acc')\n",
        "\n",
        "loss_ax.set_xlabel('epoch')\n",
        "loss_ax.set_ylabel('loss')\n",
        "acc_ax.set_ylabel('accuray')\n",
        "\n",
        "loss_ax.legend(loc='upper left')\n",
        "acc_ax.legend(loc='lower left')\n",
        "\n",
        "plt.show()"
      ],
      "execution_count": 75,
      "outputs": [
        {
          "output_type": "stream",
          "text": [
            "Train on 1983 samples, validate on 661 samples\n",
            "Epoch 1/20\n",
            "1983/1983 [==============================] - 4s 2ms/step - loss: 7.6518 - acc: 0.5169 - val_loss: 7.3641 - val_acc: 0.5431\n",
            "Epoch 2/20\n",
            "1983/1983 [==============================] - 2s 948us/step - loss: 7.8030 - acc: 0.5159 - val_loss: 7.3641 - val_acc: 0.5431\n",
            "Epoch 3/20\n",
            "1983/1983 [==============================] - 2s 951us/step - loss: 7.8030 - acc: 0.5159 - val_loss: 7.3641 - val_acc: 0.5431\n",
            "Epoch 4/20\n",
            "1983/1983 [==============================] - 2s 950us/step - loss: 7.8030 - acc: 0.5159 - val_loss: 7.3641 - val_acc: 0.5431\n",
            "Epoch 5/20\n",
            "1983/1983 [==============================] - 2s 952us/step - loss: 7.8030 - acc: 0.5159 - val_loss: 7.3641 - val_acc: 0.5431\n",
            "Epoch 6/20\n",
            "1983/1983 [==============================] - 2s 950us/step - loss: 7.8030 - acc: 0.5159 - val_loss: 7.3641 - val_acc: 0.5431\n"
          ],
          "name": "stdout"
        },
        {
          "output_type": "display_data",
          "data": {
            "image/png": "[encoded data removed]",
            "text/plain": [
              "<Figure size 432x288 with 2 Axes>"
            ]
          },
          "metadata": {
            "tags": []
          }
        }
      ]
    },
    {
      "metadata": {
        "id": "nvrb_DxeWvQA",
        "colab_type": "code",
        "outputId": "ddad59da-4e1c-410d-81ca-53f3a3aadd66",
        "colab": {
          "base_uri": "https://localhost:8080/",
          "height": 4986
        }
      },
      "cell_type": "code",
      "source": [
        "# K-fold cross validation\n",
        "# https://scikit-learn.org/stable/modules/generated/sklearn.model_selection.KFold.html\n",
        "# https://towardsdatascience.com/train-test-split-and-cross-validation-in-python-80b61beca4b6\n",
        "\n",
        "from sklearn.model_selection import KFold\n",
        "\n",
        "x = np.array(train_imgs)\n",
        "y = np.array(train_labels)\n",
        "\n",
        "kf = KFold(n_splits=5, shuffle=True, random_state=123)\n",
        "\n",
        "\n",
        "# 모델 학습시키기 \n",
        "# K-fold\n",
        "\n",
        "for train_index, valid_index in kf.split(x,y):\n",
        "  print(\"Train:\",train_index, \"Valid:\",valid_index)\n",
        "  x_train, x_valid = x[train_index], x[valid_index]\n",
        "  y_train, y_valid = y[train_index], y[valid_index]\n",
        "  \n",
        "  hist = model.fit(x_train, y_train,\n",
        "                   batch_size=64,\n",
        "                   epochs=20,\n",
        "                   validation_data=(x_valid, y_valid),\n",
        "                   callbacks=[early_stopping] )  \n",
        "  \n",
        "  print(\"-- Evaluate --\")\n",
        "  scores = model.evaluate(x_valid, y_valid, batch_size=64)\n",
        "  print(\"%s: %.2f%%\" %(model.metrics_names[1], scores[1]*100))\n",
        "    \n",
        "\n",
        "  %matplotlib inline\n",
        "  import matplotlib.pyplot as plt\n",
        "\n",
        "  fig, loss_ax = plt.subplots()\n",
        "\n",
        "  acc_ax = loss_ax.twinx()\n",
        "\n",
        "  loss_ax.plot(hist.history['loss'], 'y', label='train loss')\n",
        "  loss_ax.plot(hist.history['val_loss'], 'r', label='val loss')\n",
        "\n",
        "  acc_ax.plot(hist.history['acc'], 'b', label='train acc')\n",
        "  acc_ax.plot(hist.history['val_acc'], 'g', label='val acc')\n",
        "\n",
        "  loss_ax.set_xlabel('epoch')\n",
        "  loss_ax.set_ylabel('loss')\n",
        "  acc_ax.set_ylabel('accuray')\n",
        "\n",
        "  loss_ax.legend(loc='upper left')\n",
        "  acc_ax.legend(loc='lower left')\n",
        "\n",
        "  plt.show()"
      ],
      "execution_count": 78,
      "outputs": [
        {
          "output_type": "stream",
          "text": [
            "Train: [   0    1    2 ... 1980 1981 1982] Valid: [  12   18   21   28   31   35   42   43   50   54   61   63   64   66\n",
            "   75   86   87   91   94  103  104  108  110  112  114  115  119  120\n",
            "  129  131  132  142  147  148  155  156  167  182  184  189  204  206\n",
            "  209  210  218  221  226  229  235  239  252  256  257  260  261  266\n",
            "  270  273  276  277  297  301  304  306  308  309  310  314  315  319\n",
            "  320  326  327  328  336  343  351  356  357  372  382  384  388  394\n",
            "  403  410  421  427  429  433  437  440  449  450  452  466  468  478\n",
            "  483  489  498  512  520  522  524  525  535  546  547  550  553  554\n",
            "  556  558  561  564  566  585  590  594  600  611  613  614  615  630\n",
            "  633  637  641  644  650  653  667  670  679  680  682  698  700  701\n",
            "  708  715  722  724  732  733  735  738  742  748  761  772  775  779\n",
            "  784  787  792  797  798  807  809  814  817  822  828  831  842  847\n",
            "  850  857  860  861  868  870  878  879  883  895  903  905  907  909\n",
            "  910  912  914  917  918  927  933  938  953  958  960  963  968  971\n",
            "  975  976  991  994  995 1009 1011 1017 1018 1019 1020 1021 1026 1028\n",
            " 1033 1037 1042 1046 1050 1059 1060 1065 1066 1067 1074 1076 1079 1090\n",
            " 1094 1096 1116 1121 1129 1138 1155 1158 1173 1174 1180 1187 1188 1195\n",
            " 1198 1201 1205 1207 1208 1214 1215 1227 1237 1255 1256 1260 1263 1266\n",
            " 1267 1272 1278 1288 1289 1290 1297 1298 1299 1316 1322 1324 1327 1330\n",
            " 1331 1341 1344 1349 1350 1359 1368 1370 1373 1375 1380 1383 1385 1387\n",
            " 1397 1411 1412 1413 1423 1426 1431 1432 1444 1446 1448 1472 1473 1476\n",
            " 1479 1481 1483 1507 1508 1511 1518 1532 1541 1542 1546 1549 1552 1563\n",
            " 1566 1569 1573 1576 1578 1580 1587 1589 1592 1596 1598 1599 1601 1608\n",
            " 1610 1617 1625 1630 1644 1661 1665 1668 1670 1672 1673 1688 1691 1697\n",
            " 1702 1714 1716 1724 1725 1728 1735 1737 1743 1751 1753 1759 1760 1764\n",
            " 1773 1774 1778 1784 1785 1786 1797 1801 1815 1817 1818 1824 1830 1842\n",
            " 1846 1852 1864 1865 1882 1883 1886 1888 1890 1892 1900 1901 1907 1908\n",
            " 1916 1917 1926 1927 1928 1942 1950 1952 1953 1959 1962 1966 1967 1970\n",
            " 1973 1975 1976 1977 1978]\n",
            "Train on 1586 samples, validate on 397 samples\n",
            "Epoch 1/20\n",
            "1586/1586 [==============================] - 4s 2ms/step - loss: 7.6625 - acc: 0.5120 - val_loss: 7.4704 - val_acc: 0.5365\n",
            "Epoch 2/20\n",
            "1586/1586 [==============================] - 1s 910us/step - loss: 7.8863 - acc: 0.5107 - val_loss: 7.4704 - val_acc: 0.5365\n",
            "Epoch 3/20\n",
            "1586/1586 [==============================] - 1s 923us/step - loss: 7.8863 - acc: 0.5107 - val_loss: 7.4704 - val_acc: 0.5365\n",
            "Epoch 4/20\n",
            "1586/1586 [==============================] - 1s 926us/step - loss: 7.8863 - acc: 0.5107 - val_loss: 7.4704 - val_acc: 0.5365\n",
            "Epoch 5/20\n",
            "1586/1586 [==============================] - 1s 939us/step - loss: 7.8863 - acc: 0.5107 - val_loss: 7.4704 - val_acc: 0.5365\n",
            "Epoch 6/20\n",
            "1586/1586 [==============================] - 1s 924us/step - loss: 7.8863 - acc: 0.5107 - val_loss: 7.4704 - val_acc: 0.5365\n",
            "-- Evaluate --\n",
            "397/397 [==============================] - 0s 352us/step\n",
            "acc: 53.65%\n"
          ],
          "name": "stdout"
        },
        {
          "output_type": "display_data",
          "data": {
            "image/png": "[encoded data removed]",
            "text/plain": [
              "<Figure size 432x288 with 2 Axes>"
            ]
          },
          "metadata": {
            "tags": []
          }
        },
        {
          "output_type": "stream",
          "text": [
            "Train: [   1    2    3 ... 1980 1981 1982] Valid: [   0    5   13   15   19   33   36   37   45   48   65   69   72   76\n",
            "   78   84   85   95   97   98  116  127  130  134  136  138  141  150\n",
            "  151  152  154  157  161  162  163  166  169  171  172  173  185  188\n",
            "  196  203  208  216  223  233  237  246  249  250  258  263  267  275\n",
            "  278  282  286  302  303  307  316  318  332  334  346  348  352  353\n",
            "  368  374  375  376  379  381  385  392  393  395  406  408  409  431\n",
            "  448  453  457  458  462  463  472  474  482  491  499  502  511  517\n",
            "  521  528  533  542  543  565  568  569  579  582  584  587  597  598\n",
            "  599  602  605  616  624  627  645  646  647  651  654  655  656  657\n",
            "  666  668  674  676  678  683  689  691  696  702  711  717  721  726\n",
            "  734  737  746  749  753  756  759  764  776  777  778  785  800  803\n",
            "  805  813  820  824  827  835  838  840  841  853  854  856  865  866\n",
            "  871  875  890  891  893  902  906  911  923  925  929  937  944  945\n",
            "  947  949  956  961  966  967  970  972  980  981  985  988  996 1000\n",
            " 1001 1002 1004 1005 1008 1014 1022 1023 1031 1035 1039 1052 1055 1075\n",
            " 1077 1081 1082 1083 1098 1102 1103 1106 1108 1109 1113 1114 1120 1123\n",
            " 1124 1127 1134 1143 1148 1149 1162 1164 1169 1170 1179 1181 1185 1186\n",
            " 1189 1191 1194 1206 1209 1212 1217 1219 1220 1224 1241 1244 1245 1259\n",
            " 1261 1269 1273 1274 1276 1284 1287 1291 1292 1293 1294 1302 1306 1311\n",
            " 1320 1332 1333 1335 1342 1353 1354 1356 1357 1360 1364 1366 1371 1376\n",
            " 1379 1384 1386 1390 1392 1394 1396 1402 1404 1407 1408 1414 1419 1420\n",
            " 1422 1430 1439 1440 1445 1451 1454 1461 1466 1468 1469 1470 1478 1484\n",
            " 1488 1492 1493 1502 1528 1539 1545 1553 1556 1560 1575 1591 1604 1607\n",
            " 1609 1615 1621 1624 1634 1638 1642 1643 1647 1649 1650 1653 1657 1677\n",
            " 1681 1682 1685 1687 1694 1698 1700 1703 1706 1709 1712 1717 1718 1719\n",
            " 1722 1723 1729 1734 1742 1746 1748 1754 1762 1765 1768 1770 1775 1779\n",
            " 1782 1788 1790 1794 1800 1811 1819 1820 1821 1826 1827 1850 1853 1858\n",
            " 1867 1874 1881 1885 1896 1905 1906 1909 1911 1912 1913 1920 1921 1938\n",
            " 1940 1947 1964 1969 1971]\n",
            "Train on 1586 samples, validate on 397 samples\n",
            "Epoch 1/20\n",
            "1586/1586 [==============================] - 1s 917us/step - loss: 7.8863 - acc: 0.5107 - val_loss: 7.4704 - val_acc: 0.5365\n",
            "Epoch 2/20\n",
            "1586/1586 [==============================] - 1s 940us/step - loss: 7.8863 - acc: 0.5107 - val_loss: 7.4704 - val_acc: 0.5365\n",
            "Epoch 3/20\n",
            "1586/1586 [==============================] - 1s 926us/step - loss: 7.8863 - acc: 0.5107 - val_loss: 7.4704 - val_acc: 0.5365\n",
            "Epoch 4/20\n",
            "1586/1586 [==============================] - 1s 927us/step - loss: 7.8863 - acc: 0.5107 - val_loss: 7.4704 - val_acc: 0.5365\n",
            "Epoch 5/20\n",
            "1586/1586 [==============================] - 1s 925us/step - loss: 7.8863 - acc: 0.5107 - val_loss: 7.4704 - val_acc: 0.5365\n",
            "Epoch 6/20\n",
            "1586/1586 [==============================] - 1s 928us/step - loss: 7.8863 - acc: 0.5107 - val_loss: 7.4704 - val_acc: 0.5365\n",
            "-- Evaluate --\n",
            "397/397 [==============================] - 0s 357us/step\n",
            "acc: 53.65%\n"
          ],
          "name": "stdout"
        },
        {
          "output_type": "display_data",
          "data": {
            "image/png": "[encoded data removed]",
            "text/plain": [
              "<Figure size 432x288 with 2 Axes>"
            ]
          },
          "metadata": {
            "tags": []
          }
        },
        {
          "output_type": "stream",
          "text": [
            "Train: [   0    1    2 ... 1979 1981 1982] Valid: [   4    7    9   10   20   23   27   30   40   41   44   49   52   55\n",
            "   56   57   62   67   68   79   80   81   83   90  100  102  109  117\n",
            "  122  123  124  128  144  145  160  164  170  175  176  177  178  186\n",
            "  187  190  195  198  200  201  205  212  219  228  230  234  240  243\n",
            "  244  245  251  272  274  279  280  283  285  289  291  292  294  298\n",
            "  299  300  305  313  317  324  331  338  344  345  362  367  369  373\n",
            "  386  387  391  396  397  399  414  415  417  418  423  426  428  436\n",
            "  444  446  456  469  476  479  486  490  497  500  501  507  510  523\n",
            "  529  531  534  541  548  560  567  570  578  580  586  591  595  603\n",
            "  610  617  620  621  623  626  628  632  642  643  659  663  671  681\n",
            "  684  685  688  692  694  697  704  705  706  707  710  712  714  723\n",
            "  725  728  729  736  741  743  754  758  760  767  773  780  782  783\n",
            "  786  793  802  810  811  812  816  825  829  833  834  839  848  849\n",
            "  858  863  876  882  887  898  928  930  932  934  935  939  946  948\n",
            "  952  954  962  965  973  974  982  987  989  990  993 1012 1015 1027\n",
            " 1029 1040 1045 1048 1049 1056 1057 1058 1064 1069 1072 1078 1097 1099\n",
            " 1115 1119 1126 1131 1135 1137 1141 1142 1144 1145 1163 1167 1171 1175\n",
            " 1177 1190 1193 1196 1199 1202 1216 1226 1228 1233 1234 1236 1250 1251\n",
            " 1252 1253 1264 1270 1279 1285 1286 1296 1303 1307 1309 1313 1315 1318\n",
            " 1334 1337 1338 1340 1347 1351 1352 1361 1362 1369 1372 1391 1393 1399\n",
            " 1405 1416 1436 1449 1455 1459 1467 1477 1480 1482 1487 1497 1500 1503\n",
            " 1504 1505 1506 1509 1512 1515 1516 1519 1522 1523 1524 1535 1536 1547\n",
            " 1555 1558 1561 1571 1577 1581 1582 1584 1585 1595 1597 1614 1622 1626\n",
            " 1627 1631 1636 1637 1640 1641 1648 1662 1676 1679 1684 1686 1692 1696\n",
            " 1699 1707 1710 1711 1713 1720 1721 1726 1727 1730 1732 1739 1740 1745\n",
            " 1757 1758 1771 1776 1781 1787 1791 1795 1798 1807 1809 1822 1823 1832\n",
            " 1836 1839 1840 1843 1844 1845 1849 1851 1855 1861 1875 1876 1877 1879\n",
            " 1880 1893 1902 1914 1915 1919 1922 1932 1935 1937 1943 1944 1946 1949\n",
            " 1955 1956 1958 1972 1980]\n",
            "Train on 1586 samples, validate on 397 samples\n",
            "Epoch 1/20\n",
            "1586/1586 [==============================] - 1s 914us/step - loss: 7.8253 - acc: 0.5145 - val_loss: 7.7140 - val_acc: 0.5214\n",
            "Epoch 2/20\n",
            "1586/1586 [==============================] - 1s 935us/step - loss: 7.8253 - acc: 0.5145 - val_loss: 7.7140 - val_acc: 0.5214\n",
            "Epoch 3/20\n",
            "1586/1586 [==============================] - 1s 927us/step - loss: 7.8253 - acc: 0.5145 - val_loss: 7.7140 - val_acc: 0.5214\n",
            "Epoch 4/20\n",
            "1586/1586 [==============================] - 1s 923us/step - loss: 7.8253 - acc: 0.5145 - val_loss: 7.7140 - val_acc: 0.5214\n",
            "Epoch 5/20\n",
            "1586/1586 [==============================] - 2s 956us/step - loss: 7.8253 - acc: 0.5145 - val_loss: 7.7140 - val_acc: 0.5214\n",
            "Epoch 6/20\n",
            "1586/1586 [==============================] - 1s 922us/step - loss: 7.8253 - acc: 0.5145 - val_loss: 7.7140 - val_acc: 0.5214\n",
            "-- Evaluate --\n",
            "397/397 [==============================] - 0s 358us/step\n",
            "acc: 52.14%\n"
          ],
          "name": "stdout"
        },
        {
          "output_type": "display_data",
          "data": {
            "image/png": "[encoded data removed]",
            "text/plain": [
              "<Figure size 432x288 with 2 Axes>"
            ]
          },
          "metadata": {
            "tags": []
          }
        },
        {
          "output_type": "stream",
          "text": [
            "Train: [   0    1    2 ... 1980 1981 1982] Valid: [   6   11   22   24   26   29   32   34   38   59   70   71   74   82\n",
            "   89   93  101  105  107  118  121  125  126  153  159  174  179  180\n",
            "  181  183  191  192  199  202  207  211  214  217  222  225  227  231\n",
            "  232  236  241  242  248  253  254  264  268  269  284  287  288  295\n",
            "  311  329  333  335  341  347  349  354  358  363  364  365  366  370\n",
            "  377  378  389  398  400  402  404  413  416  419  425  430  435  443\n",
            "  445  447  455  461  465  470  485  487  492  505  506  508  509  513\n",
            "  514  518  526  527  532  536  538  540  545  549  551  559  563  571\n",
            "  577  581  606  607  619  625  631  640  648  652  660  662  664  669\n",
            "  672  675  677  687  690  693  699  703  709  713  716  719  727  730\n",
            "  739  740  745  747  765  768  770  771  774  788  789  794  796  799\n",
            "  801  804  808  821  823  832  844  845  851  852  859  864  869  872\n",
            "  873  874  877  880  888  892  894  897  904  908  915  916  919  920\n",
            "  921  922  936  941  943  951  957  964  969  984  986 1007 1010 1024\n",
            " 1025 1030 1032 1044 1047 1051 1054 1061 1062 1070 1071 1073 1084 1085\n",
            " 1086 1087 1088 1095 1101 1104 1117 1118 1125 1128 1130 1139 1140 1146\n",
            " 1151 1152 1156 1157 1161 1166 1172 1183 1184 1192 1203 1213 1221 1223\n",
            " 1225 1229 1235 1240 1243 1247 1248 1254 1257 1258 1262 1265 1271 1280\n",
            " 1282 1300 1301 1304 1308 1312 1314 1319 1321 1323 1326 1355 1367 1374\n",
            " 1377 1395 1398 1400 1403 1410 1415 1421 1427 1428 1438 1441 1450 1453\n",
            " 1456 1458 1462 1463 1465 1471 1474 1475 1485 1486 1494 1495 1498 1499\n",
            " 1501 1520 1527 1529 1533 1538 1540 1544 1548 1550 1551 1557 1562 1565\n",
            " 1567 1570 1572 1579 1586 1588 1590 1600 1602 1605 1611 1612 1613 1616\n",
            " 1618 1623 1628 1629 1632 1633 1645 1646 1658 1659 1660 1664 1666 1667\n",
            " 1674 1678 1680 1683 1690 1695 1701 1708 1736 1738 1744 1747 1749 1752\n",
            " 1756 1763 1777 1780 1793 1796 1799 1803 1805 1808 1810 1812 1813 1816\n",
            " 1825 1828 1829 1831 1835 1838 1854 1856 1857 1860 1863 1868 1869 1870\n",
            " 1887 1891 1898 1904 1910 1918 1924 1930 1931 1933 1941 1945 1951 1954\n",
            " 1957 1961 1963 1968]\n",
            "Train on 1587 samples, validate on 396 samples\n",
            "Epoch 1/20\n",
            "1587/1587 [==============================] - 1s 926us/step - loss: 7.7594 - acc: 0.5186 - val_loss: 7.9776 - val_acc: 0.5051\n",
            "Epoch 2/20\n",
            "1587/1587 [==============================] - 1s 920us/step - loss: 7.7594 - acc: 0.5186 - val_loss: 7.9776 - val_acc: 0.5051\n",
            "Epoch 3/20\n",
            "1587/1587 [==============================] - 1s 920us/step - loss: 7.7594 - acc: 0.5186 - val_loss: 7.9776 - val_acc: 0.5051\n",
            "Epoch 4/20\n",
            "1587/1587 [==============================] - 1s 915us/step - loss: 7.7594 - acc: 0.5186 - val_loss: 7.9776 - val_acc: 0.5051\n",
            "Epoch 5/20\n",
            "1587/1587 [==============================] - 1s 919us/step - loss: 7.7594 - acc: 0.5186 - val_loss: 7.9776 - val_acc: 0.5051\n",
            "Epoch 6/20\n",
            "1587/1587 [==============================] - 1s 923us/step - loss: 7.7594 - acc: 0.5186 - val_loss: 7.9776 - val_acc: 0.5051\n",
            "-- Evaluate --\n",
            "396/396 [==============================] - 0s 341us/step\n",
            "acc: 50.51%\n"
          ],
          "name": "stdout"
        },
        {
          "output_type": "display_data",
          "data": {
            "image/png": "[encoded data removed]",
            "text/plain": [
              "<Figure size 432x288 with 2 Axes>"
            ]
          },
          "metadata": {
            "tags": []
          }
        },
        {
          "output_type": "stream",
          "text": [
            "Train: [   0    4    5 ... 1977 1978 1980] Valid: [   1    2    3    8   14   16   17   25   39   46   47   51   53   58\n",
            "   60   73   77   88   92   96   99  106  111  113  133  135  137  139\n",
            "  140  143  146  149  158  165  168  193  194  197  213  215  220  224\n",
            "  238  247  255  259  262  265  271  281  290  293  296  312  321  322\n",
            "  323  325  330  337  339  340  342  350  355  359  360  361  371  380\n",
            "  383  390  401  405  407  411  412  420  422  424  432  434  438  439\n",
            "  441  442  451  454  459  460  464  467  471  473  475  477  480  481\n",
            "  484  488  493  494  495  496  503  504  515  516  519  530  537  539\n",
            "  544  552  555  557  562  572  573  574  575  576  583  588  589  592\n",
            "  593  596  601  604  608  609  612  618  622  629  634  635  636  638\n",
            "  639  649  658  661  665  673  686  695  718  720  731  744  750  751\n",
            "  752  755  757  762  763  766  769  781  790  791  795  806  815  818\n",
            "  819  826  830  836  837  843  846  855  862  867  881  884  885  886\n",
            "  889  896  899  900  901  913  924  926  931  940  942  950  955  959\n",
            "  977  978  979  983  992  997  998  999 1003 1006 1013 1016 1034 1036\n",
            " 1038 1041 1043 1053 1063 1068 1080 1089 1091 1092 1093 1100 1105 1107\n",
            " 1110 1111 1112 1122 1132 1133 1136 1147 1150 1153 1154 1159 1160 1165\n",
            " 1168 1176 1178 1182 1197 1200 1204 1210 1211 1218 1222 1230 1231 1232\n",
            " 1238 1239 1242 1246 1249 1268 1275 1277 1281 1283 1295 1305 1310 1317\n",
            " 1325 1328 1329 1336 1339 1343 1345 1346 1348 1358 1363 1365 1378 1381\n",
            " 1382 1388 1389 1401 1406 1409 1417 1418 1424 1425 1429 1433 1434 1435\n",
            " 1437 1442 1443 1447 1452 1457 1460 1464 1489 1490 1491 1496 1510 1513\n",
            " 1514 1517 1521 1525 1526 1530 1531 1534 1537 1543 1554 1559 1564 1568\n",
            " 1574 1583 1593 1594 1603 1606 1619 1620 1635 1639 1651 1652 1654 1655\n",
            " 1656 1663 1669 1671 1675 1689 1693 1704 1705 1715 1731 1733 1741 1750\n",
            " 1755 1761 1766 1767 1769 1772 1783 1789 1792 1802 1804 1806 1814 1833\n",
            " 1834 1837 1841 1847 1848 1859 1862 1866 1871 1872 1873 1878 1884 1889\n",
            " 1894 1895 1897 1899 1903 1923 1925 1929 1934 1936 1939 1948 1960 1965\n",
            " 1974 1979 1981 1982]\n",
            "Train on 1587 samples, validate on 396 samples\n",
            "Epoch 1/20\n",
            "1587/1587 [==============================] - 1s 920us/step - loss: 7.6579 - acc: 0.5249 - val_loss: 8.3847 - val_acc: 0.4798\n",
            "Epoch 2/20\n",
            "1587/1587 [==============================] - 1s 922us/step - loss: 7.6579 - acc: 0.5249 - val_loss: 8.3847 - val_acc: 0.4798\n",
            "Epoch 3/20\n",
            "1587/1587 [==============================] - 1s 920us/step - loss: 7.6579 - acc: 0.5249 - val_loss: 8.3847 - val_acc: 0.4798\n",
            "Epoch 4/20\n",
            "1587/1587 [==============================] - 1s 918us/step - loss: 7.6579 - acc: 0.5249 - val_loss: 8.3847 - val_acc: 0.4798\n",
            "Epoch 5/20\n",
            "1587/1587 [==============================] - 1s 925us/step - loss: 7.6579 - acc: 0.5249 - val_loss: 8.3847 - val_acc: 0.4798\n",
            "Epoch 6/20\n",
            "1587/1587 [==============================] - 1s 932us/step - loss: 7.6579 - acc: 0.5249 - val_loss: 8.3847 - val_acc: 0.4798\n",
            "-- Evaluate --\n",
            "396/396 [==============================] - 0s 358us/step\n",
            "acc: 47.98%\n"
          ],
          "name": "stdout"
        },
        {
          "output_type": "display_data",
          "data": {
            "image/png": "[encoded data removed]",
            "text/plain": [
              "<Figure size 432x288 with 2 Axes>"
            ]
          },
          "metadata": {
            "tags": []
          }
        }
      ]
    },
    {
      "metadata": {
        "id": "QCi2RHnBsyoc",
        "colab_type": "code",
        "outputId": "aef0cb10-71af-439e-8c76-257a1d6c5c55",
        "colab": {
          "base_uri": "https://localhost:8080/",
          "height": 196
        }
      },
      "cell_type": "code",
      "source": [
        "# 모델 평가 및 사용하기\n",
        "print(\"-- Evaluate --\")\n",
        "scores = model.evaluate(test_imgs, test_labels, batch_size=32)\n",
        "print(\"%s: %.2f%%\" %(model.metrics_names[1], scores[1]*100))\n",
        "\n",
        "print(\"-- Predict --\")\n",
        "output = model.predict(test_imgs)\n",
        "np.set_printoptions(formatter={'float': lambda x: \"{0:0.3f}\".format(x)})\n",
        "print(output)"
      ],
      "execution_count": 79,
      "outputs": [
        {
          "output_type": "stream",
          "text": [
            "-- Evaluate --\n",
            "661/661 [==============================] - 0s 487us/step\n",
            "acc: 54.31%\n",
            "-- Predict --\n",
            "[[0.000 1.000]\n",
            " [0.000 1.000]\n",
            " [0.000 1.000]\n",
            " ...\n",
            " [0.000 1.000]\n",
            " [0.000 1.000]\n",
            " [0.000 1.000]]\n"
          ],
          "name": "stdout"
        }
      ]
    },
    {
      "metadata": {
        "id": "Q4CmKN6JHe62",
        "colab_type": "code",
        "colab": {}
      },
      "cell_type": "code",
      "source": [
        ""
      ],
      "execution_count": 0,
      "outputs": []
    }
  ]
}