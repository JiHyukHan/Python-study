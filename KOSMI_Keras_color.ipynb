{
  "nbformat": 4,
  "nbformat_minor": 0,
  "metadata": {
    "colab": {
      "name": "KOSMI_Keras_color.ipynb",
      "version": "0.3.2",
      "provenance": [],
      "collapsed_sections": []
    },
    "kernelspec": {
      "name": "python3",
      "display_name": "Python 3"
    },
    "accelerator": "GPU"
  },
  "cells": [
    {
      "metadata": {
        "id": "cK23lk97bmxe",
        "colab_type": "text"
      },
      "cell_type": "markdown",
      "source": [
        "# KOSMI 예제를 Keras 로 바꿔보기 "
      ]
    },
    {
      "metadata": {
        "id": "ke1bAghPdS12",
        "colab_type": "text"
      },
      "cell_type": "markdown",
      "source": [
        "google drive mount "
      ]
    },
    {
      "metadata": {
        "id": "P8nf7ODYdHHq",
        "colab_type": "code",
        "outputId": "a7b2e154-66de-4074-ceef-e6519e79c82b",
        "colab": {
          "base_uri": "https://localhost:8080/",
          "height": 118
        }
      },
      "cell_type": "code",
      "source": [
        "from google.colab import auth\n",
        "auth.authenticate_user()\n",
        "\n",
        "from google.colab import drive\n",
        "drive.mount('/content/gdrive')"
      ],
      "execution_count": 0,
      "outputs": [
        {
          "output_type": "stream",
          "text": [
            "Go to this URL in a browser: https://accounts.google.com/o/oauth2/auth?client_id=947318989803-6bn6qk8qdgf4n4g3pfee6491hc0brc4i.apps.googleusercontent.com&redirect_uri=urn%3Aietf%3Awg%3Aoauth%3A2.0%3Aoob&scope=email%20https%3A%2F%2Fwww.googleapis.com%2Fauth%2Fdocs.test%20https%3A%2F%2Fwww.googleapis.com%2Fauth%2Fdrive%20https%3A%2F%2Fwww.googleapis.com%2Fauth%2Fdrive.photos.readonly%20https%3A%2F%2Fwww.googleapis.com%2Fauth%2Fpeopleapi.readonly&response_type=code\n",
            "\n",
            "Enter your authorization code:\n",
            "··········\n",
            "Mounted at /content/gdrive\n"
          ],
          "name": "stdout"
        }
      ]
    },
    {
      "metadata": {
        "id": "04sulHRkdIlf",
        "colab_type": "code",
        "outputId": "86167c5e-f52a-48ce-c753-0df60623a113",
        "colab": {
          "base_uri": "https://localhost:8080/",
          "height": 33
        }
      },
      "cell_type": "code",
      "source": [
        "with open('/content/gdrive/My Drive/foo.txt', 'w') as f:\n",
        "  f.write('Hello Google Drive!')\n",
        "!cat /content/gdrive/My\\ Drive/foo.txt"
      ],
      "execution_count": 0,
      "outputs": [
        {
          "output_type": "stream",
          "text": [
            "Hello Google Drive!"
          ],
          "name": "stdout"
        }
      ]
    },
    {
      "metadata": {
        "id": "9w-WwkJwYAFp",
        "colab_type": "code",
        "outputId": "ddf93dfa-5d2a-41d0-9f56-9589471e8275",
        "colab": {
          "base_uri": "https://localhost:8080/",
          "height": 33
        }
      },
      "cell_type": "code",
      "source": [
        "ls gdrive/My\\ Drive"
      ],
      "execution_count": 0,
      "outputs": [
        {
          "output_type": "stream",
          "text": [
            "\u001b[0m\u001b[01;34m'Colab Notebooks'\u001b[0m/   \u001b[01;34mdataset\u001b[0m/   foo.txt   \u001b[01;34mKeras\u001b[0m/\n"
          ],
          "name": "stdout"
        }
      ]
    },
    {
      "metadata": {
        "id": "5GFVgzJEau_i",
        "colab_type": "code",
        "outputId": "d14ad679-0505-4dbb-99bb-958aed939612",
        "colab": {
          "base_uri": "https://localhost:8080/",
          "height": 33
        }
      },
      "cell_type": "code",
      "source": [
        "import PIL \n",
        "from PIL import Image\n",
        "import matplotlib.pyplot as plt\n",
        "\n",
        "import numpy as np\n",
        "from keras.models import Sequential\n",
        "from keras.layers import Dense, Activation, Conv2D, MaxPooling2D, Flatten, Dropout\n",
        "from keras.preprocessing.image import ImageDataGenerator\n"
      ],
      "execution_count": 0,
      "outputs": [
        {
          "output_type": "stream",
          "text": [
            "Using TensorFlow backend.\n"
          ],
          "name": "stderr"
        }
      ]
    },
    {
      "metadata": {
        "id": "qifEtL53eLHn",
        "colab_type": "code",
        "outputId": "ae569675-200b-4f32-dc3d-4c06a99e1316",
        "colab": {
          "base_uri": "https://localhost:8080/",
          "height": 50
        }
      },
      "cell_type": "code",
      "source": [
        "# 랜덤시드 고정시키기\n",
        "np.random.seed(3)\n",
        "\n",
        "# 데이터셋 생성하기 \n",
        "train_datagen = ImageDataGenerator(rescale=1./255)\n",
        "\n",
        "train_generator = train_datagen.flow_from_directory(\n",
        "        'gdrive/My Drive/dataset/KOSMI_tutorial/retinopathy_dataset_resize/train',\n",
        "        target_size=(128, 128),\n",
        "        batch_size=64,\n",
        "        class_mode='binary') \n",
        "\n",
        "test_datagen = ImageDataGenerator(rescale=1./255)\n",
        "\n",
        "test_generator = test_datagen.flow_from_directory(\n",
        "        'gdrive/My Drive/dataset/KOSMI_tutorial/retinopathy_dataset_resize/test',\n",
        "        target_size=(128, 128),    \n",
        "        batch_size=64,\n",
        "        class_mode='binary')"
      ],
      "execution_count": 0,
      "outputs": [
        {
          "output_type": "stream",
          "text": [
            "Found 1230 images belonging to 2 classes.\n",
            "Found 292 images belonging to 2 classes.\n"
          ],
          "name": "stdout"
        }
      ]
    },
    {
      "metadata": {
        "colab_type": "code",
        "id": "cquvwxLp2dz0",
        "colab": {}
      },
      "cell_type": "code",
      "source": [
        "# 모델 구성 \n",
        "model = Sequential()\n",
        "model.add(Conv2D(16, (3, 3), padding='same', activation='relu', input_shape=(128, 128, 3)))\n",
        "model.add(MaxPooling2D(pool_size=(2, 2)))\n",
        "model.add(Conv2D(64, (3, 3), padding='same', activation='relu'))\n",
        "model.add(MaxPooling2D(pool_size=(2, 2)))\n",
        "model.add(Conv2D(128, (3, 3), padding='same', activation='relu'))\n",
        "model.add(MaxPooling2D(pool_size=(2, 2)))\n",
        "model.add(Conv2D(256, (3, 3), padding='same', activation='relu'))\n",
        "model.add(MaxPooling2D(pool_size=(2, 2)))\n",
        "model.add(Flatten())\n",
        "model.add(Dense(1024, activation='relu'))\n",
        "model.add(Dense(1, activation='sigmoid')) # 0, 1 의 이진분류 "
      ],
      "execution_count": 0,
      "outputs": []
    },
    {
      "metadata": {
        "id": "dJPilvcXT5o7",
        "colab_type": "code",
        "outputId": "3e1bffd1-e49d-4fe6-8335-52e04b4e75d7",
        "colab": {
          "base_uri": "https://localhost:8080/",
          "height": 1297
        }
      },
      "cell_type": "code",
      "source": [
        "# 모델 시각화 \n",
        "from IPython.display import SVG\n",
        "from keras.utils.vis_utils import model_to_dot\n",
        "\n",
        "%matplotlib inline\n",
        "\n",
        "SVG(model_to_dot(model, show_shapes=True).create(prog='dot', format='svg'))"
      ],
      "execution_count": 0,
      "outputs": [
        {
          "output_type": "execute_result",
          "data": {
            "text/plain": [
              "<IPython.core.display.SVG object>"
            ],
            "image/svg+xml": "<svg height=\"958pt\" viewBox=\"0.00 0.00 427.00 958.00\" width=\"427pt\" xmlns=\"http://www.w3.org/2000/svg\" xmlns:xlink=\"http://www.w3.org/1999/xlink\">\n<g class=\"graph\" id=\"graph0\" transform=\"scale(1 1) rotate(0) translate(4 954)\">\n<title>G</title>\n<polygon fill=\"#ffffff\" points=\"-4,4 -4,-954 423,-954 423,4 -4,4\" stroke=\"transparent\"/>\n<!-- 139835639253984 -->\n<g class=\"node\" id=\"node1\">\n<title>139835639253984</title>\n<polygon fill=\"none\" points=\"44,-830.5 44,-876.5 375,-876.5 375,-830.5 44,-830.5\" stroke=\"#000000\"/>\n<text fill=\"#000000\" font-family=\"Times,serif\" font-size=\"14.00\" text-anchor=\"middle\" x=\"110.5\" y=\"-849.8\">conv2d_5: Conv2D</text>\n<polyline fill=\"none\" points=\"177,-830.5 177,-876.5 \" stroke=\"#000000\"/>\n<text fill=\"#000000\" font-family=\"Times,serif\" font-size=\"14.00\" text-anchor=\"middle\" x=\"206\" y=\"-861.3\">input:</text>\n<polyline fill=\"none\" points=\"177,-853.5 235,-853.5 \" stroke=\"#000000\"/>\n<text fill=\"#000000\" font-family=\"Times,serif\" font-size=\"14.00\" text-anchor=\"middle\" x=\"206\" y=\"-838.3\">output:</text>\n<polyline fill=\"none\" points=\"235,-830.5 235,-876.5 \" stroke=\"#000000\"/>\n<text fill=\"#000000\" font-family=\"Times,serif\" font-size=\"14.00\" text-anchor=\"middle\" x=\"305\" y=\"-861.3\">(None, 128, 128, 3)</text>\n<polyline fill=\"none\" points=\"235,-853.5 375,-853.5 \" stroke=\"#000000\"/>\n<text fill=\"#000000\" font-family=\"Times,serif\" font-size=\"14.00\" text-anchor=\"middle\" x=\"305\" y=\"-838.3\">(None, 128, 128, 16)</text>\n</g>\n<!-- 139835641172376 -->\n<g class=\"node\" id=\"node2\">\n<title>139835641172376</title>\n<polygon fill=\"none\" points=\"0,-747.5 0,-793.5 419,-793.5 419,-747.5 0,-747.5\" stroke=\"#000000\"/>\n<text fill=\"#000000\" font-family=\"Times,serif\" font-size=\"14.00\" text-anchor=\"middle\" x=\"110.5\" y=\"-766.8\">max_pooling2d_5: MaxPooling2D</text>\n<polyline fill=\"none\" points=\"221,-747.5 221,-793.5 \" stroke=\"#000000\"/>\n<text fill=\"#000000\" font-family=\"Times,serif\" font-size=\"14.00\" text-anchor=\"middle\" x=\"250\" y=\"-778.3\">input:</text>\n<polyline fill=\"none\" points=\"221,-770.5 279,-770.5 \" stroke=\"#000000\"/>\n<text fill=\"#000000\" font-family=\"Times,serif\" font-size=\"14.00\" text-anchor=\"middle\" x=\"250\" y=\"-755.3\">output:</text>\n<polyline fill=\"none\" points=\"279,-747.5 279,-793.5 \" stroke=\"#000000\"/>\n<text fill=\"#000000\" font-family=\"Times,serif\" font-size=\"14.00\" text-anchor=\"middle\" x=\"349\" y=\"-778.3\">(None, 128, 128, 16)</text>\n<polyline fill=\"none\" points=\"279,-770.5 419,-770.5 \" stroke=\"#000000\"/>\n<text fill=\"#000000\" font-family=\"Times,serif\" font-size=\"14.00\" text-anchor=\"middle\" x=\"349\" y=\"-755.3\">(None, 64, 64, 16)</text>\n</g>\n<!-- 139835639253984&#45;&gt;139835641172376 -->\n<g class=\"edge\" id=\"edge2\">\n<title>139835639253984-&gt;139835641172376</title>\n<path d=\"M209.5,-830.3799C209.5,-822.1745 209.5,-812.7679 209.5,-803.8786\" fill=\"none\" stroke=\"#000000\"/>\n<polygon fill=\"#000000\" points=\"213.0001,-803.784 209.5,-793.784 206.0001,-803.784 213.0001,-803.784\" stroke=\"#000000\"/>\n</g>\n<!-- 139835640922576 -->\n<g class=\"node\" id=\"node3\">\n<title>139835640922576</title>\n<polygon fill=\"none\" points=\"51.5,-664.5 51.5,-710.5 367.5,-710.5 367.5,-664.5 51.5,-664.5\" stroke=\"#000000\"/>\n<text fill=\"#000000\" font-family=\"Times,serif\" font-size=\"14.00\" text-anchor=\"middle\" x=\"118\" y=\"-683.8\">conv2d_6: Conv2D</text>\n<polyline fill=\"none\" points=\"184.5,-664.5 184.5,-710.5 \" stroke=\"#000000\"/>\n<text fill=\"#000000\" font-family=\"Times,serif\" font-size=\"14.00\" text-anchor=\"middle\" x=\"213.5\" y=\"-695.3\">input:</text>\n<polyline fill=\"none\" points=\"184.5,-687.5 242.5,-687.5 \" stroke=\"#000000\"/>\n<text fill=\"#000000\" font-family=\"Times,serif\" font-size=\"14.00\" text-anchor=\"middle\" x=\"213.5\" y=\"-672.3\">output:</text>\n<polyline fill=\"none\" points=\"242.5,-664.5 242.5,-710.5 \" stroke=\"#000000\"/>\n<text fill=\"#000000\" font-family=\"Times,serif\" font-size=\"14.00\" text-anchor=\"middle\" x=\"305\" y=\"-695.3\">(None, 64, 64, 16)</text>\n<polyline fill=\"none\" points=\"242.5,-687.5 367.5,-687.5 \" stroke=\"#000000\"/>\n<text fill=\"#000000\" font-family=\"Times,serif\" font-size=\"14.00\" text-anchor=\"middle\" x=\"305\" y=\"-672.3\">(None, 64, 64, 64)</text>\n</g>\n<!-- 139835641172376&#45;&gt;139835640922576 -->\n<g class=\"edge\" id=\"edge3\">\n<title>139835641172376-&gt;139835640922576</title>\n<path d=\"M209.5,-747.3799C209.5,-739.1745 209.5,-729.7679 209.5,-720.8786\" fill=\"none\" stroke=\"#000000\"/>\n<polygon fill=\"#000000\" points=\"213.0001,-720.784 209.5,-710.784 206.0001,-720.784 213.0001,-720.784\" stroke=\"#000000\"/>\n</g>\n<!-- 139835640941760 -->\n<g class=\"node\" id=\"node4\">\n<title>139835640941760</title>\n<polygon fill=\"none\" points=\"7.5,-581.5 7.5,-627.5 411.5,-627.5 411.5,-581.5 7.5,-581.5\" stroke=\"#000000\"/>\n<text fill=\"#000000\" font-family=\"Times,serif\" font-size=\"14.00\" text-anchor=\"middle\" x=\"118\" y=\"-600.8\">max_pooling2d_6: MaxPooling2D</text>\n<polyline fill=\"none\" points=\"228.5,-581.5 228.5,-627.5 \" stroke=\"#000000\"/>\n<text fill=\"#000000\" font-family=\"Times,serif\" font-size=\"14.00\" text-anchor=\"middle\" x=\"257.5\" y=\"-612.3\">input:</text>\n<polyline fill=\"none\" points=\"228.5,-604.5 286.5,-604.5 \" stroke=\"#000000\"/>\n<text fill=\"#000000\" font-family=\"Times,serif\" font-size=\"14.00\" text-anchor=\"middle\" x=\"257.5\" y=\"-589.3\">output:</text>\n<polyline fill=\"none\" points=\"286.5,-581.5 286.5,-627.5 \" stroke=\"#000000\"/>\n<text fill=\"#000000\" font-family=\"Times,serif\" font-size=\"14.00\" text-anchor=\"middle\" x=\"349\" y=\"-612.3\">(None, 64, 64, 64)</text>\n<polyline fill=\"none\" points=\"286.5,-604.5 411.5,-604.5 \" stroke=\"#000000\"/>\n<text fill=\"#000000\" font-family=\"Times,serif\" font-size=\"14.00\" text-anchor=\"middle\" x=\"349\" y=\"-589.3\">(None, 32, 32, 64)</text>\n</g>\n<!-- 139835640922576&#45;&gt;139835640941760 -->\n<g class=\"edge\" id=\"edge4\">\n<title>139835640922576-&gt;139835640941760</title>\n<path d=\"M209.5,-664.3799C209.5,-656.1745 209.5,-646.7679 209.5,-637.8786\" fill=\"none\" stroke=\"#000000\"/>\n<polygon fill=\"#000000\" points=\"213.0001,-637.784 209.5,-627.784 206.0001,-637.784 213.0001,-637.784\" stroke=\"#000000\"/>\n</g>\n<!-- 139835641407416 -->\n<g class=\"node\" id=\"node5\">\n<title>139835641407416</title>\n<polygon fill=\"none\" points=\"48,-498.5 48,-544.5 371,-544.5 371,-498.5 48,-498.5\" stroke=\"#000000\"/>\n<text fill=\"#000000\" font-family=\"Times,serif\" font-size=\"14.00\" text-anchor=\"middle\" x=\"114.5\" y=\"-517.8\">conv2d_7: Conv2D</text>\n<polyline fill=\"none\" points=\"181,-498.5 181,-544.5 \" stroke=\"#000000\"/>\n<text fill=\"#000000\" font-family=\"Times,serif\" font-size=\"14.00\" text-anchor=\"middle\" x=\"210\" y=\"-529.3\">input:</text>\n<polyline fill=\"none\" points=\"181,-521.5 239,-521.5 \" stroke=\"#000000\"/>\n<text fill=\"#000000\" font-family=\"Times,serif\" font-size=\"14.00\" text-anchor=\"middle\" x=\"210\" y=\"-506.3\">output:</text>\n<polyline fill=\"none\" points=\"239,-498.5 239,-544.5 \" stroke=\"#000000\"/>\n<text fill=\"#000000\" font-family=\"Times,serif\" font-size=\"14.00\" text-anchor=\"middle\" x=\"305\" y=\"-529.3\">(None, 32, 32, 64)</text>\n<polyline fill=\"none\" points=\"239,-521.5 371,-521.5 \" stroke=\"#000000\"/>\n<text fill=\"#000000\" font-family=\"Times,serif\" font-size=\"14.00\" text-anchor=\"middle\" x=\"305\" y=\"-506.3\">(None, 32, 32, 128)</text>\n</g>\n<!-- 139835640941760&#45;&gt;139835641407416 -->\n<g class=\"edge\" id=\"edge5\">\n<title>139835640941760-&gt;139835641407416</title>\n<path d=\"M209.5,-581.3799C209.5,-573.1745 209.5,-563.7679 209.5,-554.8786\" fill=\"none\" stroke=\"#000000\"/>\n<polygon fill=\"#000000\" points=\"213.0001,-554.784 209.5,-544.784 206.0001,-554.784 213.0001,-554.784\" stroke=\"#000000\"/>\n</g>\n<!-- 139835640382632 -->\n<g class=\"node\" id=\"node6\">\n<title>139835640382632</title>\n<polygon fill=\"none\" points=\"4,-415.5 4,-461.5 415,-461.5 415,-415.5 4,-415.5\" stroke=\"#000000\"/>\n<text fill=\"#000000\" font-family=\"Times,serif\" font-size=\"14.00\" text-anchor=\"middle\" x=\"114.5\" y=\"-434.8\">max_pooling2d_7: MaxPooling2D</text>\n<polyline fill=\"none\" points=\"225,-415.5 225,-461.5 \" stroke=\"#000000\"/>\n<text fill=\"#000000\" font-family=\"Times,serif\" font-size=\"14.00\" text-anchor=\"middle\" x=\"254\" y=\"-446.3\">input:</text>\n<polyline fill=\"none\" points=\"225,-438.5 283,-438.5 \" stroke=\"#000000\"/>\n<text fill=\"#000000\" font-family=\"Times,serif\" font-size=\"14.00\" text-anchor=\"middle\" x=\"254\" y=\"-423.3\">output:</text>\n<polyline fill=\"none\" points=\"283,-415.5 283,-461.5 \" stroke=\"#000000\"/>\n<text fill=\"#000000\" font-family=\"Times,serif\" font-size=\"14.00\" text-anchor=\"middle\" x=\"349\" y=\"-446.3\">(None, 32, 32, 128)</text>\n<polyline fill=\"none\" points=\"283,-438.5 415,-438.5 \" stroke=\"#000000\"/>\n<text fill=\"#000000\" font-family=\"Times,serif\" font-size=\"14.00\" text-anchor=\"middle\" x=\"349\" y=\"-423.3\">(None, 16, 16, 128)</text>\n</g>\n<!-- 139835641407416&#45;&gt;139835640382632 -->\n<g class=\"edge\" id=\"edge6\">\n<title>139835641407416-&gt;139835640382632</title>\n<path d=\"M209.5,-498.3799C209.5,-490.1745 209.5,-480.7679 209.5,-471.8786\" fill=\"none\" stroke=\"#000000\"/>\n<polygon fill=\"#000000\" points=\"213.0001,-471.784 209.5,-461.784 206.0001,-471.784 213.0001,-471.784\" stroke=\"#000000\"/>\n</g>\n<!-- 139835641826776 -->\n<g class=\"node\" id=\"node7\">\n<title>139835641826776</title>\n<polygon fill=\"none\" points=\"48,-332.5 48,-378.5 371,-378.5 371,-332.5 48,-332.5\" stroke=\"#000000\"/>\n<text fill=\"#000000\" font-family=\"Times,serif\" font-size=\"14.00\" text-anchor=\"middle\" x=\"114.5\" y=\"-351.8\">conv2d_8: Conv2D</text>\n<polyline fill=\"none\" points=\"181,-332.5 181,-378.5 \" stroke=\"#000000\"/>\n<text fill=\"#000000\" font-family=\"Times,serif\" font-size=\"14.00\" text-anchor=\"middle\" x=\"210\" y=\"-363.3\">input:</text>\n<polyline fill=\"none\" points=\"181,-355.5 239,-355.5 \" stroke=\"#000000\"/>\n<text fill=\"#000000\" font-family=\"Times,serif\" font-size=\"14.00\" text-anchor=\"middle\" x=\"210\" y=\"-340.3\">output:</text>\n<polyline fill=\"none\" points=\"239,-332.5 239,-378.5 \" stroke=\"#000000\"/>\n<text fill=\"#000000\" font-family=\"Times,serif\" font-size=\"14.00\" text-anchor=\"middle\" x=\"305\" y=\"-363.3\">(None, 16, 16, 128)</text>\n<polyline fill=\"none\" points=\"239,-355.5 371,-355.5 \" stroke=\"#000000\"/>\n<text fill=\"#000000\" font-family=\"Times,serif\" font-size=\"14.00\" text-anchor=\"middle\" x=\"305\" y=\"-340.3\">(None, 16, 16, 256)</text>\n</g>\n<!-- 139835640382632&#45;&gt;139835641826776 -->\n<g class=\"edge\" id=\"edge7\">\n<title>139835640382632-&gt;139835641826776</title>\n<path d=\"M209.5,-415.3799C209.5,-407.1745 209.5,-397.7679 209.5,-388.8786\" fill=\"none\" stroke=\"#000000\"/>\n<polygon fill=\"#000000\" points=\"213.0001,-388.784 209.5,-378.784 206.0001,-388.784 213.0001,-388.784\" stroke=\"#000000\"/>\n</g>\n<!-- 139835639966632 -->\n<g class=\"node\" id=\"node8\">\n<title>139835639966632</title>\n<polygon fill=\"none\" points=\"4,-249.5 4,-295.5 415,-295.5 415,-249.5 4,-249.5\" stroke=\"#000000\"/>\n<text fill=\"#000000\" font-family=\"Times,serif\" font-size=\"14.00\" text-anchor=\"middle\" x=\"114.5\" y=\"-268.8\">max_pooling2d_8: MaxPooling2D</text>\n<polyline fill=\"none\" points=\"225,-249.5 225,-295.5 \" stroke=\"#000000\"/>\n<text fill=\"#000000\" font-family=\"Times,serif\" font-size=\"14.00\" text-anchor=\"middle\" x=\"254\" y=\"-280.3\">input:</text>\n<polyline fill=\"none\" points=\"225,-272.5 283,-272.5 \" stroke=\"#000000\"/>\n<text fill=\"#000000\" font-family=\"Times,serif\" font-size=\"14.00\" text-anchor=\"middle\" x=\"254\" y=\"-257.3\">output:</text>\n<polyline fill=\"none\" points=\"283,-249.5 283,-295.5 \" stroke=\"#000000\"/>\n<text fill=\"#000000\" font-family=\"Times,serif\" font-size=\"14.00\" text-anchor=\"middle\" x=\"349\" y=\"-280.3\">(None, 16, 16, 256)</text>\n<polyline fill=\"none\" points=\"283,-272.5 415,-272.5 \" stroke=\"#000000\"/>\n<text fill=\"#000000\" font-family=\"Times,serif\" font-size=\"14.00\" text-anchor=\"middle\" x=\"349\" y=\"-257.3\">(None, 8, 8, 256)</text>\n</g>\n<!-- 139835641826776&#45;&gt;139835639966632 -->\n<g class=\"edge\" id=\"edge8\">\n<title>139835641826776-&gt;139835639966632</title>\n<path d=\"M209.5,-332.3799C209.5,-324.1745 209.5,-314.7679 209.5,-305.8786\" fill=\"none\" stroke=\"#000000\"/>\n<polygon fill=\"#000000\" points=\"213.0001,-305.784 209.5,-295.784 206.0001,-305.784 213.0001,-305.784\" stroke=\"#000000\"/>\n</g>\n<!-- 139835640383248 -->\n<g class=\"node\" id=\"node9\">\n<title>139835640383248</title>\n<polygon fill=\"none\" points=\"65.5,-166.5 65.5,-212.5 353.5,-212.5 353.5,-166.5 65.5,-166.5\" stroke=\"#000000\"/>\n<text fill=\"#000000\" font-family=\"Times,serif\" font-size=\"14.00\" text-anchor=\"middle\" x=\"122\" y=\"-185.8\">flatten_2: Flatten</text>\n<polyline fill=\"none\" points=\"178.5,-166.5 178.5,-212.5 \" stroke=\"#000000\"/>\n<text fill=\"#000000\" font-family=\"Times,serif\" font-size=\"14.00\" text-anchor=\"middle\" x=\"207.5\" y=\"-197.3\">input:</text>\n<polyline fill=\"none\" points=\"178.5,-189.5 236.5,-189.5 \" stroke=\"#000000\"/>\n<text fill=\"#000000\" font-family=\"Times,serif\" font-size=\"14.00\" text-anchor=\"middle\" x=\"207.5\" y=\"-174.3\">output:</text>\n<polyline fill=\"none\" points=\"236.5,-166.5 236.5,-212.5 \" stroke=\"#000000\"/>\n<text fill=\"#000000\" font-family=\"Times,serif\" font-size=\"14.00\" text-anchor=\"middle\" x=\"295\" y=\"-197.3\">(None, 8, 8, 256)</text>\n<polyline fill=\"none\" points=\"236.5,-189.5 353.5,-189.5 \" stroke=\"#000000\"/>\n<text fill=\"#000000\" font-family=\"Times,serif\" font-size=\"14.00\" text-anchor=\"middle\" x=\"295\" y=\"-174.3\">(None, 16384)</text>\n</g>\n<!-- 139835639966632&#45;&gt;139835640383248 -->\n<g class=\"edge\" id=\"edge9\">\n<title>139835639966632-&gt;139835640383248</title>\n<path d=\"M209.5,-249.3799C209.5,-241.1745 209.5,-231.7679 209.5,-222.8786\" fill=\"none\" stroke=\"#000000\"/>\n<polygon fill=\"#000000\" points=\"213.0001,-222.784 209.5,-212.784 206.0001,-222.784 213.0001,-222.784\" stroke=\"#000000\"/>\n</g>\n<!-- 139835639967248 -->\n<g class=\"node\" id=\"node10\">\n<title>139835639967248</title>\n<polygon fill=\"none\" points=\"76,-83.5 76,-129.5 343,-129.5 343,-83.5 76,-83.5\" stroke=\"#000000\"/>\n<text fill=\"#000000\" font-family=\"Times,serif\" font-size=\"14.00\" text-anchor=\"middle\" x=\"129.5\" y=\"-102.8\">dense_3: Dense</text>\n<polyline fill=\"none\" points=\"183,-83.5 183,-129.5 \" stroke=\"#000000\"/>\n<text fill=\"#000000\" font-family=\"Times,serif\" font-size=\"14.00\" text-anchor=\"middle\" x=\"212\" y=\"-114.3\">input:</text>\n<polyline fill=\"none\" points=\"183,-106.5 241,-106.5 \" stroke=\"#000000\"/>\n<text fill=\"#000000\" font-family=\"Times,serif\" font-size=\"14.00\" text-anchor=\"middle\" x=\"212\" y=\"-91.3\">output:</text>\n<polyline fill=\"none\" points=\"241,-83.5 241,-129.5 \" stroke=\"#000000\"/>\n<text fill=\"#000000\" font-family=\"Times,serif\" font-size=\"14.00\" text-anchor=\"middle\" x=\"292\" y=\"-114.3\">(None, 16384)</text>\n<polyline fill=\"none\" points=\"241,-106.5 343,-106.5 \" stroke=\"#000000\"/>\n<text fill=\"#000000\" font-family=\"Times,serif\" font-size=\"14.00\" text-anchor=\"middle\" x=\"292\" y=\"-91.3\">(None, 1024)</text>\n</g>\n<!-- 139835640383248&#45;&gt;139835639967248 -->\n<g class=\"edge\" id=\"edge10\">\n<title>139835640383248-&gt;139835639967248</title>\n<path d=\"M209.5,-166.3799C209.5,-158.1745 209.5,-148.7679 209.5,-139.8786\" fill=\"none\" stroke=\"#000000\"/>\n<polygon fill=\"#000000\" points=\"213.0001,-139.784 209.5,-129.784 206.0001,-139.784 213.0001,-139.784\" stroke=\"#000000\"/>\n</g>\n<!-- 139835640059104 -->\n<g class=\"node\" id=\"node11\">\n<title>139835640059104</title>\n<polygon fill=\"none\" points=\"79.5,-.5 79.5,-46.5 339.5,-46.5 339.5,-.5 79.5,-.5\" stroke=\"#000000\"/>\n<text fill=\"#000000\" font-family=\"Times,serif\" font-size=\"14.00\" text-anchor=\"middle\" x=\"133\" y=\"-19.8\">dense_4: Dense</text>\n<polyline fill=\"none\" points=\"186.5,-.5 186.5,-46.5 \" stroke=\"#000000\"/>\n<text fill=\"#000000\" font-family=\"Times,serif\" font-size=\"14.00\" text-anchor=\"middle\" x=\"215.5\" y=\"-31.3\">input:</text>\n<polyline fill=\"none\" points=\"186.5,-23.5 244.5,-23.5 \" stroke=\"#000000\"/>\n<text fill=\"#000000\" font-family=\"Times,serif\" font-size=\"14.00\" text-anchor=\"middle\" x=\"215.5\" y=\"-8.3\">output:</text>\n<polyline fill=\"none\" points=\"244.5,-.5 244.5,-46.5 \" stroke=\"#000000\"/>\n<text fill=\"#000000\" font-family=\"Times,serif\" font-size=\"14.00\" text-anchor=\"middle\" x=\"292\" y=\"-31.3\">(None, 1024)</text>\n<polyline fill=\"none\" points=\"244.5,-23.5 339.5,-23.5 \" stroke=\"#000000\"/>\n<text fill=\"#000000\" font-family=\"Times,serif\" font-size=\"14.00\" text-anchor=\"middle\" x=\"292\" y=\"-8.3\">(None, 1)</text>\n</g>\n<!-- 139835639967248&#45;&gt;139835640059104 -->\n<g class=\"edge\" id=\"edge11\">\n<title>139835639967248-&gt;139835640059104</title>\n<path d=\"M209.5,-83.3799C209.5,-75.1745 209.5,-65.7679 209.5,-56.8786\" fill=\"none\" stroke=\"#000000\"/>\n<polygon fill=\"#000000\" points=\"213.0001,-56.784 209.5,-46.784 206.0001,-56.784 213.0001,-56.784\" stroke=\"#000000\"/>\n</g>\n<!-- 139835641173216 -->\n<g class=\"node\" id=\"node12\">\n<title>139835641173216</title>\n<polygon fill=\"none\" points=\"145.5,-913.5 145.5,-949.5 273.5,-949.5 273.5,-913.5 145.5,-913.5\" stroke=\"#000000\"/>\n<text fill=\"#000000\" font-family=\"Times,serif\" font-size=\"14.00\" text-anchor=\"middle\" x=\"209.5\" y=\"-927.8\">139835641173216</text>\n</g>\n<!-- 139835641173216&#45;&gt;139835639253984 -->\n<g class=\"edge\" id=\"edge1\">\n<title>139835641173216-&gt;139835639253984</title>\n<path d=\"M209.5,-913.4092C209.5,-905.4308 209.5,-895.795 209.5,-886.606\" fill=\"none\" stroke=\"#000000\"/>\n<polygon fill=\"#000000\" points=\"213.0001,-886.5333 209.5,-876.5333 206.0001,-886.5334 213.0001,-886.5333\" stroke=\"#000000\"/>\n</g>\n</g>\n</svg>"
          },
          "metadata": {
            "tags": []
          },
          "execution_count": 19
        }
      ]
    },
    {
      "metadata": {
        "id": "N8phY8wxQ7TB",
        "colab_type": "code",
        "colab": {}
      },
      "cell_type": "code",
      "source": [
        "# 모델 학습과정 설정 \n",
        "model.compile(loss='binary_crossentropy', optimizer='adam', metrics=['accuracy'])\n",
        "\n",
        "# 조기종료함수 \n",
        "from keras.callbacks import EarlyStopping\n",
        "early_stopping = EarlyStopping(patience = 20) # 조기종료 콜백함수 정의"
      ],
      "execution_count": 0,
      "outputs": []
    },
    {
      "metadata": {
        "id": "WJGHeWopQ7ZP",
        "colab_type": "code",
        "outputId": "b9249d74-6da0-4f1d-fc43-8e8196ba7263",
        "colab": {
          "base_uri": "https://localhost:8080/",
          "height": 1382
        }
      },
      "cell_type": "code",
      "source": [
        "# 모델 학습시키기 \n",
        "hist = model.fit_generator(\n",
        "        train_generator,\n",
        "        steps_per_epoch=20,  # train sample 1230, batch size 64\n",
        "        epochs=100,\n",
        "        validation_data=test_generator,\n",
        "        validation_steps=5, # test sample 292, batch size 64\n",
        "        callbacks=[early_stopping]\n",
        "        )  "
      ],
      "execution_count": 0,
      "outputs": [
        {
          "output_type": "stream",
          "text": [
            "Epoch 1/100\n",
            "20/20 [==============================] - 5s 232ms/step - loss: 0.7306 - acc: 0.4870 - val_loss: 0.6938 - val_acc: 0.4932\n",
            "Epoch 2/100\n",
            "20/20 [==============================] - 3s 170ms/step - loss: 0.6932 - acc: 0.5066 - val_loss: 0.6934 - val_acc: 0.5000\n",
            "Epoch 3/100\n",
            "20/20 [==============================] - 3s 174ms/step - loss: 0.6933 - acc: 0.4967 - val_loss: 0.6934 - val_acc: 0.4897\n",
            "Epoch 4/100\n",
            "20/20 [==============================] - 3s 172ms/step - loss: 0.6929 - acc: 0.5150 - val_loss: 0.6917 - val_acc: 0.5308\n",
            "Epoch 5/100\n",
            "20/20 [==============================] - 3s 175ms/step - loss: 0.6938 - acc: 0.5258 - val_loss: 0.6932 - val_acc: 0.5308\n",
            "Epoch 6/100\n",
            "20/20 [==============================] - 3s 174ms/step - loss: 0.6938 - acc: 0.5276 - val_loss: 0.6932 - val_acc: 0.5548\n",
            "Epoch 7/100\n",
            "20/20 [==============================] - 3s 173ms/step - loss: 0.6918 - acc: 0.5060 - val_loss: 0.6908 - val_acc: 0.5342\n",
            "Epoch 8/100\n",
            "20/20 [==============================] - 4s 176ms/step - loss: 0.6912 - acc: 0.5429 - val_loss: 0.6924 - val_acc: 0.5822\n",
            "Epoch 9/100\n",
            "20/20 [==============================] - 3s 174ms/step - loss: 0.6888 - acc: 0.5332 - val_loss: 0.6985 - val_acc: 0.4623\n",
            "Epoch 10/100\n",
            "20/20 [==============================] - 4s 176ms/step - loss: 0.6869 - acc: 0.5431 - val_loss: 0.6898 - val_acc: 0.5308\n",
            "Epoch 11/100\n",
            "20/20 [==============================] - 3s 174ms/step - loss: 0.6835 - acc: 0.5451 - val_loss: 0.7139 - val_acc: 0.4897\n",
            "Epoch 12/100\n",
            "20/20 [==============================] - 4s 175ms/step - loss: 0.6653 - acc: 0.5928 - val_loss: 0.7025 - val_acc: 0.5856\n",
            "Epoch 13/100\n",
            "20/20 [==============================] - 3s 175ms/step - loss: 0.6719 - acc: 0.5831 - val_loss: 0.7159 - val_acc: 0.5651\n",
            "Epoch 14/100\n",
            "20/20 [==============================] - 3s 172ms/step - loss: 0.6370 - acc: 0.6385 - val_loss: 0.6437 - val_acc: 0.6747\n",
            "Epoch 15/100\n",
            "20/20 [==============================] - 3s 174ms/step - loss: 0.6305 - acc: 0.6497 - val_loss: 0.6658 - val_acc: 0.6336\n",
            "Epoch 16/100\n",
            "20/20 [==============================] - 3s 174ms/step - loss: 0.6006 - acc: 0.6716 - val_loss: 0.6949 - val_acc: 0.6267\n",
            "Epoch 17/100\n",
            "20/20 [==============================] - 3s 172ms/step - loss: 0.5830 - acc: 0.6963 - val_loss: 0.6438 - val_acc: 0.7329\n",
            "Epoch 18/100\n",
            "20/20 [==============================] - 3s 175ms/step - loss: 0.5742 - acc: 0.7044 - val_loss: 0.6611 - val_acc: 0.6815\n",
            "Epoch 19/100\n",
            "20/20 [==============================] - 3s 175ms/step - loss: 0.5566 - acc: 0.7151 - val_loss: 0.6503 - val_acc: 0.6404\n",
            "Epoch 20/100\n",
            "20/20 [==============================] - 3s 173ms/step - loss: 0.5484 - acc: 0.7297 - val_loss: 0.7146 - val_acc: 0.6164\n",
            "Epoch 21/100\n",
            "20/20 [==============================] - 3s 173ms/step - loss: 0.5087 - acc: 0.7556 - val_loss: 0.6691 - val_acc: 0.6849\n",
            "Epoch 22/100\n",
            "20/20 [==============================] - 3s 173ms/step - loss: 0.4681 - acc: 0.7854 - val_loss: 0.6258 - val_acc: 0.7089\n",
            "Epoch 23/100\n",
            "20/20 [==============================] - 3s 174ms/step - loss: 0.4422 - acc: 0.7921 - val_loss: 0.6492 - val_acc: 0.6849\n",
            "Epoch 24/100\n",
            "20/20 [==============================] - 3s 175ms/step - loss: 0.4732 - acc: 0.7807 - val_loss: 0.6659 - val_acc: 0.6473\n",
            "Epoch 25/100\n",
            "20/20 [==============================] - 3s 174ms/step - loss: 0.4030 - acc: 0.8142 - val_loss: 0.7453 - val_acc: 0.6610\n",
            "Epoch 26/100\n",
            "20/20 [==============================] - 3s 175ms/step - loss: 0.3643 - acc: 0.8367 - val_loss: 0.7214 - val_acc: 0.6884\n",
            "Epoch 27/100\n",
            "20/20 [==============================] - 3s 174ms/step - loss: 0.3250 - acc: 0.8666 - val_loss: 0.6946 - val_acc: 0.7158\n",
            "Epoch 28/100\n",
            "20/20 [==============================] - 4s 176ms/step - loss: 0.3553 - acc: 0.8543 - val_loss: 0.7680 - val_acc: 0.6678\n",
            "Epoch 29/100\n",
            "20/20 [==============================] - 4s 175ms/step - loss: 0.3223 - acc: 0.8583 - val_loss: 0.8456 - val_acc: 0.6507\n",
            "Epoch 30/100\n",
            "20/20 [==============================] - 3s 175ms/step - loss: 0.2802 - acc: 0.8859 - val_loss: 0.8643 - val_acc: 0.6781\n",
            "Epoch 31/100\n",
            "20/20 [==============================] - 3s 174ms/step - loss: 0.2730 - acc: 0.8815 - val_loss: 0.8673 - val_acc: 0.6815\n",
            "Epoch 32/100\n",
            "20/20 [==============================] - 3s 174ms/step - loss: 0.2144 - acc: 0.9222 - val_loss: 0.8672 - val_acc: 0.6747\n",
            "Epoch 33/100\n",
            "20/20 [==============================] - 3s 173ms/step - loss: 0.2068 - acc: 0.9080 - val_loss: 0.8195 - val_acc: 0.7158\n",
            "Epoch 34/100\n",
            "20/20 [==============================] - 3s 174ms/step - loss: 0.1549 - acc: 0.9444 - val_loss: 1.0515 - val_acc: 0.6815\n",
            "Epoch 35/100\n",
            "20/20 [==============================] - 3s 173ms/step - loss: 0.1313 - acc: 0.9523 - val_loss: 1.1991 - val_acc: 0.7021\n",
            "Epoch 36/100\n",
            "20/20 [==============================] - 3s 173ms/step - loss: 0.1152 - acc: 0.9629 - val_loss: 1.0248 - val_acc: 0.7192\n",
            "Epoch 37/100\n",
            "20/20 [==============================] - 3s 175ms/step - loss: 0.1338 - acc: 0.9491 - val_loss: 1.0387 - val_acc: 0.6952\n",
            "Epoch 38/100\n",
            "20/20 [==============================] - 4s 176ms/step - loss: 0.0918 - acc: 0.9660 - val_loss: 1.1670 - val_acc: 0.7192\n",
            "Epoch 39/100\n",
            "20/20 [==============================] - 3s 174ms/step - loss: 0.1444 - acc: 0.9391 - val_loss: 1.0882 - val_acc: 0.6849\n",
            "Epoch 40/100\n",
            "20/20 [==============================] - 3s 171ms/step - loss: 0.0859 - acc: 0.9634 - val_loss: 1.1608 - val_acc: 0.7260\n",
            "Epoch 41/100\n",
            "20/20 [==============================] - 3s 174ms/step - loss: 0.0542 - acc: 0.9875 - val_loss: 1.6173 - val_acc: 0.6747\n",
            "Epoch 42/100\n",
            "20/20 [==============================] - 3s 174ms/step - loss: 0.0440 - acc: 0.9875 - val_loss: 1.3842 - val_acc: 0.7329\n"
          ],
          "name": "stdout"
        }
      ]
    },
    {
      "metadata": {
        "id": "cz4u1nJ8q10Z",
        "colab_type": "code",
        "outputId": "0a4cba92-a52d-4096-b7fe-68e57485c854",
        "colab": {
          "base_uri": "https://localhost:8080/",
          "height": 280
        }
      },
      "cell_type": "code",
      "source": [
        "# 모델 학습 과정 표시하기\n",
        "%matplotlib inline\n",
        "import matplotlib.pyplot as plt\n",
        "\n",
        "fig, loss_ax = plt.subplots()\n",
        "\n",
        "acc_ax = loss_ax.twinx()\n",
        "\n",
        "loss_ax.plot(hist.history['loss'], 'y', label='train loss')\n",
        "loss_ax.plot(hist.history['val_loss'], 'r', label='val loss')\n",
        "\n",
        "acc_ax.plot(hist.history['acc'], 'b', label='train acc')\n",
        "acc_ax.plot(hist.history['val_acc'], 'g', label='val acc')\n",
        "\n",
        "loss_ax.set_xlabel('epoch')\n",
        "loss_ax.set_ylabel('loss')\n",
        "acc_ax.set_ylabel('accuray')\n",
        "\n",
        "loss_ax.legend(loc='upper left')\n",
        "acc_ax.legend(loc='lower left')\n",
        "\n",
        "plt.show()"
      ],
      "execution_count": 0,
      "outputs": [
        {
          "output_type": "display_data",
          "data": {
            "image/png": "[encoded data removed]",
            "text/plain": [
              "<matplotlib.figure.Figure at 0x7f2dfb1ecb38>"
            ]
          },
          "metadata": {
            "tags": []
          }
        }
      ]
    },
    {
      "metadata": {
        "id": "R1hv4UXivp4v",
        "colab_type": "code",
        "outputId": "81c9ff2d-2c8a-4d5d-c0fd-56445bbcbb7e",
        "colab": {
          "base_uri": "https://localhost:8080/",
          "height": 50
        }
      },
      "cell_type": "code",
      "source": [
        "# 모델 평가하기 \n",
        "print(\"-- Evaluate --\")\n",
        "scores = model.evaluate_generator(test_generator, steps=5)\n",
        "print(\"%s: %.2f%%\" %(model.metrics_names[1], scores[1]*100))"
      ],
      "execution_count": 0,
      "outputs": [
        {
          "output_type": "stream",
          "text": [
            "-- Evaluate --\n",
            "acc: 70.55%\n"
          ],
          "name": "stdout"
        }
      ]
    },
    {
      "metadata": {
        "id": "-vL9C_f6WqaB",
        "colab_type": "code",
        "outputId": "86ca6616-9945-488b-d492-5d2545f9ed9d",
        "colab": {
          "base_uri": "https://localhost:8080/",
          "height": 280
        }
      },
      "cell_type": "code",
      "source": [
        "# 모델 학습 과정 표시하기 (epochs=100)\n",
        "%matplotlib inline\n",
        "import matplotlib.pyplot as plt\n",
        "\n",
        "fig, loss_ax = plt.subplots()\n",
        "\n",
        "acc_ax = loss_ax.twinx()\n",
        "\n",
        "loss_ax.plot(hist.history['loss'], 'y', label='train loss')\n",
        "loss_ax.plot(hist.history['val_loss'], 'r', label='val loss')\n",
        "\n",
        "acc_ax.plot(hist.history['acc'], 'b', label='train acc')\n",
        "acc_ax.plot(hist.history['val_acc'], 'g', label='val acc')\n",
        "\n",
        "loss_ax.set_xlabel('epoch')\n",
        "loss_ax.set_ylabel('loss')\n",
        "acc_ax.set_ylabel('accuray')\n",
        "\n",
        "loss_ax.legend(loc='upper left')\n",
        "acc_ax.legend(loc='lower left')\n",
        "\n",
        "plt.show()"
      ],
      "execution_count": 0,
      "outputs": [
        {
          "output_type": "display_data",
          "data": {
            "image/png": "[encoded data removed]",
            "text/plain": [
              "<matplotlib.figure.Figure at 0x7f2e0638b390>"
            ]
          },
          "metadata": {
            "tags": []
          }
        }
      ]
    },
    {
      "metadata": {
        "id": "GDsJqH_7T0vb",
        "colab_type": "code",
        "outputId": "67a1649e-4a75-4549-d622-167d11b157d3",
        "colab": {
          "base_uri": "https://localhost:8080/",
          "height": 50
        }
      },
      "cell_type": "code",
      "source": [
        "# 모델 평가하기 (epochs=100)\n",
        "print(\"-- Evaluate --\")\n",
        "scores = model.evaluate_generator(test_generator, steps=5)\n",
        "print(\"%s: %.2f%%\" %(model.metrics_names[1], scores[1]*100))"
      ],
      "execution_count": 0,
      "outputs": [
        {
          "output_type": "stream",
          "text": [
            "-- Evaluate --\n",
            "acc: 64.73%\n"
          ],
          "name": "stdout"
        }
      ]
    },
    {
      "metadata": {
        "id": "jgr3JiXBWHXG",
        "colab_type": "code",
        "outputId": "424bba5f-c299-4994-a425-1cdab74bfc55",
        "colab": {
          "base_uri": "https://localhost:8080/",
          "height": 4795
        }
      },
      "cell_type": "code",
      "source": [
        "# 모델 사용하기 \n",
        "print(\"-- Predict --\")\n",
        "output = model.predict_generator(test_generator, steps=5)\n",
        "np.set_printoptions(formatter={'float': lambda x: \"{0:0.3f}\".format(x)})\n",
        "print(test_generator.class_indices)\n",
        "print(output)"
      ],
      "execution_count": 0,
      "outputs": [
        {
          "output_type": "stream",
          "text": [
            "-- Predict --\n",
            "{'0': 0, '1': 1}\n",
            "[[0.330]\n",
            " [0.000]\n",
            " [1.000]\n",
            " [0.002]\n",
            " [0.999]\n",
            " [0.000]\n",
            " [0.235]\n",
            " [0.676]\n",
            " [1.000]\n",
            " [0.050]\n",
            " [0.000]\n",
            " [0.007]\n",
            " [0.213]\n",
            " [0.000]\n",
            " [0.996]\n",
            " [0.001]\n",
            " [0.000]\n",
            " [0.084]\n",
            " [1.000]\n",
            " [0.000]\n",
            " [0.662]\n",
            " [0.022]\n",
            " [0.025]\n",
            " [0.610]\n",
            " [0.004]\n",
            " [0.470]\n",
            " [0.000]\n",
            " [0.990]\n",
            " [0.995]\n",
            " [1.000]\n",
            " [0.000]\n",
            " [0.012]\n",
            " [0.999]\n",
            " [0.997]\n",
            " [0.001]\n",
            " [0.993]\n",
            " [0.891]\n",
            " [0.000]\n",
            " [1.000]\n",
            " [0.007]\n",
            " [0.043]\n",
            " [0.983]\n",
            " [0.103]\n",
            " [0.000]\n",
            " [0.998]\n",
            " [0.000]\n",
            " [0.185]\n",
            " [1.000]\n",
            " [0.350]\n",
            " [0.364]\n",
            " [0.988]\n",
            " [0.972]\n",
            " [0.000]\n",
            " [0.052]\n",
            " [0.256]\n",
            " [0.000]\n",
            " [0.898]\n",
            " [0.949]\n",
            " [0.000]\n",
            " [0.002]\n",
            " [0.849]\n",
            " [0.116]\n",
            " [1.000]\n",
            " [0.213]\n",
            " [0.479]\n",
            " [0.233]\n",
            " [0.952]\n",
            " [0.145]\n",
            " [0.995]\n",
            " [0.090]\n",
            " [0.993]\n",
            " [0.000]\n",
            " [1.000]\n",
            " [0.999]\n",
            " [0.001]\n",
            " [0.651]\n",
            " [0.517]\n",
            " [0.781]\n",
            " [0.828]\n",
            " [0.074]\n",
            " [0.996]\n",
            " [1.000]\n",
            " [0.066]\n",
            " [0.000]\n",
            " [0.000]\n",
            " [0.357]\n",
            " [0.037]\n",
            " [0.003]\n",
            " [0.470]\n",
            " [0.968]\n",
            " [0.000]\n",
            " [0.043]\n",
            " [0.999]\n",
            " [0.001]\n",
            " [0.000]\n",
            " [0.000]\n",
            " [0.001]\n",
            " [0.999]\n",
            " [0.427]\n",
            " [0.345]\n",
            " [1.000]\n",
            " [0.997]\n",
            " [0.001]\n",
            " [0.973]\n",
            " [0.000]\n",
            " [0.002]\n",
            " [0.000]\n",
            " [1.000]\n",
            " [0.290]\n",
            " [0.852]\n",
            " [0.567]\n",
            " [0.081]\n",
            " [0.999]\n",
            " [0.000]\n",
            " [0.012]\n",
            " [0.016]\n",
            " [0.000]\n",
            " [0.994]\n",
            " [0.941]\n",
            " [0.998]\n",
            " [0.046]\n",
            " [0.367]\n",
            " [0.983]\n",
            " [0.999]\n",
            " [0.000]\n",
            " [0.272]\n",
            " [0.999]\n",
            " [0.006]\n",
            " [0.001]\n",
            " [0.003]\n",
            " [0.479]\n",
            " [0.004]\n",
            " [0.000]\n",
            " [0.992]\n",
            " [0.814]\n",
            " [0.000]\n",
            " [0.024]\n",
            " [0.001]\n",
            " [0.002]\n",
            " [0.000]\n",
            " [1.000]\n",
            " [0.000]\n",
            " [0.270]\n",
            " [0.404]\n",
            " [0.000]\n",
            " [0.967]\n",
            " [0.138]\n",
            " [0.001]\n",
            " [0.000]\n",
            " [0.996]\n",
            " [0.008]\n",
            " [0.000]\n",
            " [0.999]\n",
            " [0.461]\n",
            " [0.980]\n",
            " [0.001]\n",
            " [0.000]\n",
            " [0.420]\n",
            " [0.000]\n",
            " [0.999]\n",
            " [0.001]\n",
            " [0.633]\n",
            " [0.086]\n",
            " [0.000]\n",
            " [0.876]\n",
            " [0.032]\n",
            " [0.696]\n",
            " [1.000]\n",
            " [0.035]\n",
            " [1.000]\n",
            " [0.999]\n",
            " [0.000]\n",
            " [1.000]\n",
            " [0.002]\n",
            " [0.000]\n",
            " [0.937]\n",
            " [0.068]\n",
            " [0.781]\n",
            " [0.037]\n",
            " [0.000]\n",
            " [0.999]\n",
            " [0.062]\n",
            " [0.836]\n",
            " [1.000]\n",
            " [0.000]\n",
            " [0.999]\n",
            " [0.995]\n",
            " [0.083]\n",
            " [0.971]\n",
            " [0.999]\n",
            " [0.000]\n",
            " [1.000]\n",
            " [0.025]\n",
            " [0.014]\n",
            " [0.000]\n",
            " [0.930]\n",
            " [0.930]\n",
            " [0.946]\n",
            " [0.000]\n",
            " [0.536]\n",
            " [0.760]\n",
            " [1.000]\n",
            " [0.403]\n",
            " [1.000]\n",
            " [0.000]\n",
            " [0.000]\n",
            " [0.000]\n",
            " [0.000]\n",
            " [0.974]\n",
            " [0.659]\n",
            " [0.000]\n",
            " [0.001]\n",
            " [0.606]\n",
            " [0.494]\n",
            " [0.971]\n",
            " [0.270]\n",
            " [0.407]\n",
            " [1.000]\n",
            " [1.000]\n",
            " [0.000]\n",
            " [0.000]\n",
            " [0.971]\n",
            " [1.000]\n",
            " [0.584]\n",
            " [0.000]\n",
            " [0.990]\n",
            " [0.003]\n",
            " [1.000]\n",
            " [0.009]\n",
            " [0.022]\n",
            " [0.916]\n",
            " [1.000]\n",
            " [0.076]\n",
            " [0.512]\n",
            " [0.056]\n",
            " [1.000]\n",
            " [1.000]\n",
            " [1.000]\n",
            " [1.000]\n",
            " [0.105]\n",
            " [1.000]\n",
            " [0.084]\n",
            " [0.001]\n",
            " [0.001]\n",
            " [0.992]\n",
            " [0.052]\n",
            " [0.034]\n",
            " [0.676]\n",
            " [1.000]\n",
            " [0.062]\n",
            " [0.050]\n",
            " [0.144]\n",
            " [0.870]\n",
            " [0.501]\n",
            " [0.235]\n",
            " [0.988]\n",
            " [0.000]\n",
            " [1.000]\n",
            " [0.348]\n",
            " [1.000]\n",
            " [0.000]\n",
            " [0.000]\n",
            " [0.001]\n",
            " [0.031]\n",
            " [0.058]\n",
            " [0.108]\n",
            " [0.828]\n",
            " [0.878]\n",
            " [0.992]\n",
            " [0.534]\n",
            " [0.681]\n",
            " [1.000]\n",
            " [0.000]\n",
            " [0.000]\n",
            " [0.008]\n",
            " [0.046]\n",
            " [1.000]\n",
            " [0.001]\n",
            " [1.000]\n",
            " [0.610]\n",
            " [0.003]\n",
            " [0.949]\n",
            " [0.979]\n",
            " [0.975]\n",
            " [0.005]\n",
            " [0.021]\n",
            " [0.036]\n",
            " [0.658]\n",
            " [0.053]\n",
            " [0.000]\n",
            " [0.007]\n",
            " [0.662]]\n"
          ],
          "name": "stdout"
        }
      ]
    },
    {
      "metadata": {
        "id": "ssjHwbkBV9hl",
        "colab_type": "code",
        "colab": {}
      },
      "cell_type": "code",
      "source": [
        ""
      ],
      "execution_count": 0,
      "outputs": []
    }
  ]
}